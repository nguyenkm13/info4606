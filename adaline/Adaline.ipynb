{
 "cells": [
  {
   "cell_type": "code",
   "execution_count": 1,
   "metadata": {
    "scrolled": false
   },
   "outputs": [],
   "source": [
    "'''Load this code, you don't have to change anything'''\n",
    "\n",
    "import numpy as np\n",
    "import matplotlib.pyplot as plt\n",
    "from sklearn import datasets\n",
    "\n",
    "def predict(X, w):\n",
    "    a = X.dot(w) < 0  \n",
    "    a = a.astype(int)  # will be True if less than zero\n",
    "    a[a == 1] = -1     # hence gets the label -1\n",
    "    a[a == 0] = 1      # else gets the label 1 b/c greater than 0\n",
    "    return a\n",
    "\n",
    "def accuracy(X, w, y):\n",
    "    return np.sum(predict(X, w) == y)/y.size\n",
    "\n",
    "def loss(weights, features, labels):\n",
    "    return np.sum((labels - features.dot(weights)) ** 2)\n",
    "\n",
    "def grad(weights, features, labels):\n",
    "    a =  -2 * np.multiply(features, (labels - features.dot(weights)))\n",
    "    return np.sum(a, axis=0).reshape(-1, 1)\n"
   ]
  },
  {
   "cell_type": "code",
   "execution_count": 2,
   "metadata": {},
   "outputs": [],
   "source": [
    "# Load the iris dataset\n",
    "\n",
    "iris = datasets.load_iris()\n",
    "N = 100\n",
    "X = iris.data[:, :2][0:N]  # we only take the first two features and 100 rows\n",
    "y = iris.target[0:N]       # we only take the first two features and 100 rows\n",
    " \n",
    "N, F = X.shape\n",
    "\n",
    "y = y.reshape(N,1)\n",
    "\n",
    "y[y == 0] = -1\n",
    "\n",
    "# Initialize the weights\n",
    "\n",
    "w = np.random.rand(F).reshape(F,1)"
   ]
  },
  {
   "cell_type": "markdown",
   "metadata": {},
   "source": [
    "### Building intuition for the loss function \n",
    "\n",
    "Describe the loss function for Adeline in your own words. What does the equation say? \n",
    "\n",
    "The loss function is the sum of the squared difference of the target variable (labels) and the net input to the output unit (features.dot(weights)). This function returns the SSE, which we want to minimize."
   ]
  },
  {
   "cell_type": "markdown",
   "metadata": {},
   "source": [
    "### Examining the existing code\n",
    "\n",
    "Using the slides on Adeline as a guide, please examine the `predict`, `accuracy`, `loss` and `grad` functions above. Please describe in your own words what each function is doing \n",
    "\n",
    "The predict function takes the features dotted with the weights to create a bipolar class label based on the value of the dot product and returns a vector of predicted classifications for each observation.\n",
    "\n",
    "The accuracy function sums the number of correctly classified observations from the predict function and divides that sum by the total number of observation to obtain a percentage of correct classifications.\n",
    "\n",
    "The grad function calculates the gradient of the cost function and returns a scalar sum of each of the gradient components across all weights."
   ]
  },
  {
   "cell_type": "markdown",
   "metadata": {},
   "source": [
    "### Optimization: Random search\n",
    "\n",
    "In a minute we will optimize Adeline via a gradient-based technique. But first, let's take a minute to understand *why* we even want to do this and *what* we are even doing in the first place. We can also optimize the method via random search. To be clear, this is a bad way to actually optimize the function. But it is a great way to build intution for what is actually happening in gradient descent.\n",
    "\n",
    "Start off by implementing the `get_random_weights` function below. The function should return weights returned at random."
   ]
  },
  {
   "cell_type": "code",
   "execution_count": 3,
   "metadata": {},
   "outputs": [],
   "source": [
    "def get_random_weights(NumFeatures=2):\n",
    "    '''\n",
    "    \n",
    "    Return a vector of shape NumFeatures X 1, filled at random. Numpy has functions for this\n",
    "    \n",
    "    For this assignment NumFeatures=2\n",
    "    '''\n",
    "    w_ = np.random.rand(NumFeatures).reshape(NumFeatures,1)\n",
    "    return w_\n",
    "    pass\n"
   ]
  },
  {
   "cell_type": "code",
   "execution_count": 4,
   "metadata": {},
   "outputs": [
    {
     "data": {
      "text/plain": [
       "(array([[0.03543011],\n",
       "        [0.14612452]]),\n",
       " 148.61004548319656)"
      ]
     },
     "execution_count": 4,
     "metadata": {},
     "output_type": "execute_result"
    }
   ],
   "source": [
    "def random_search(features, labels, iters=100):\n",
    "    '''\n",
    "    Implement this random search function\n",
    "    Pseudocode is provided for you. Random search\n",
    "    just keeps trying different weights at random\n",
    "    and then returns the best weights it has found so far\n",
    "    '''\n",
    "    \n",
    "    # initialize current_w and best_loss\n",
    "    current_w = get_random_weights(2)\n",
    "    best_loss = 10000\n",
    "    \n",
    "    for i in range(iters):\n",
    "        new_w = get_random_weights(2)\n",
    "        new_loss = loss(new_w, features, labels)\n",
    "\n",
    "                \n",
    "        # Implement the following... \n",
    "        # If the new_loss is less than the best_loss \n",
    "        # Then replace current_w with new_w and replace best_loss with the new loss\n",
    "        \n",
    "        if(new_loss < best_loss):\n",
    "            current_w = new_w\n",
    "            best_loss = new_loss\n",
    "\n",
    "        \n",
    "    # return the best weights you found, during your random search\n",
    "    return current_w, best_loss\n",
    "\n",
    "\n",
    "random_search(features=X, labels=y)"
   ]
  },
  {
   "cell_type": "markdown",
   "metadata": {},
   "source": [
    "\n",
    "### Optimization: Gradient descent\n",
    "\n",
    "Random search is not a great way to optimize most functions, especially if you know the gradient which always points in the direction of greatest increase of a function. We will optimize Adeline with gradient *descent*, which takes steps in the *opposite* direction of the gradient. Why does that make sense? Hint: you should describe the Adeline loss function?\n",
    "\n",
    "The gradient will always point in the direction of greatest increase. In this case the Adaline loss function is convex which means that the direction of greatest increase always is up and away from the min. Since we want to minimize the loss function, we move in the opposite direction of the gradient towards the min."
   ]
  },
  {
   "cell_type": "code",
   "execution_count": 5,
   "metadata": {
    "scrolled": false
   },
   "outputs": [
    {
     "name": "stdout",
     "output_type": "stream",
     "text": [
      "280.3291046600444 0.5\n",
      "148.457419905164 0.43\n",
      "141.473754370051 0.1\n",
      "139.66064914290862 0.06\n",
      "138.08050076230768 0.04\n",
      "136.52941948180143 0.04\n",
      "134.99874500324435 0.04\n",
      "133.48787186435618 0.04\n",
      "131.99653000723777 0.06\n",
      "130.52446637480526 0.06\n",
      "129.071431738348 0.06\n",
      "127.63718011385059 0.06\n",
      "126.22146869801854 0.06\n",
      "124.82405782625345 0.06\n",
      "123.44471093204204 0.07\n",
      "122.08319450690698 0.08\n",
      "120.73927806087582 0.08\n",
      "119.412734083462 0.09\n",
      "118.10333800514945 0.1\n",
      "116.81086815937562 0.1\n",
      "115.53510574500561 0.1\n",
      "114.27583478929155 0.11\n",
      "113.03284211131077 0.12\n",
      "111.80591728587659 0.12\n",
      "110.59485260791558 0.17\n",
      "109.39944305730532 0.19\n",
      "108.2194862641668 0.24\n",
      "107.05478247460535 0.34\n",
      "105.90513451689444 0.42\n",
      "104.77034776809667 0.45\n",
      "103.65023012111624 0.49\n",
      "102.54459195217729 0.5\n",
      "101.45324608872255 0.5\n",
      "100.37600777772728 0.5\n",
      "99.31269465442236 0.5\n",
      "98.26312671142205 0.5\n",
      "97.22712626825054 0.5\n",
      "96.2045179412628 0.5\n",
      "95.19512861395383 0.54\n",
      "94.19878740765205 0.64\n",
      "93.21532565259122 0.71\n",
      "92.2445768593567 0.8\n",
      "91.28637669070041 0.84\n",
      "90.34056293372038 0.87\n",
      "89.40697547239998 0.89\n",
      "88.48545626050175 0.91\n",
      "87.57584929481217 0.95\n",
      "86.67800058873179 0.97\n",
      "85.79175814620713 0.97\n",
      "84.91697193599921 0.97\n",
      "84.05349386628517 0.97\n",
      "83.20117775958761 0.98\n",
      "82.35987932802851 0.98\n",
      "81.52945614890287 0.98\n",
      "80.70976764056799 0.98\n",
      "79.90067503864462 0.98\n",
      "79.10204137252555 0.98\n",
      "78.31373144218811 0.99\n",
      "77.53561179530608 0.99\n",
      "76.76755070465792 0.99\n",
      "76.00941814582649 0.99\n",
      "75.26108577518752 0.99\n",
      "74.52242690818242 0.99\n",
      "73.79331649787176 0.99\n",
      "73.07363111376648 0.99\n",
      "72.36324892093225 0.99\n",
      "71.6620496593641 0.99\n",
      "70.96991462362791 0.99\n",
      "70.28672664276463 0.99\n",
      "69.6123700604547 0.99\n",
      "68.94673071543852 0.99\n",
      "68.28969592219035 0.99\n",
      "67.64115445184174 0.99\n",
      "67.00099651335178 0.99\n",
      "66.3691137349206 0.99\n",
      "65.74539914564322 0.99\n",
      "65.12974715740062 0.99\n",
      "64.52205354698462 0.99\n",
      "63.922215438454224 0.99\n",
      "63.330131285719744 0.99\n",
      "62.74570085535212 0.99\n",
      "62.168825209614575 0.99\n",
      "61.599406689713405 0.99\n",
      "61.03734889926556 0.99\n",
      "60.48255668797965 0.99\n",
      "59.9349361355481 0.99\n",
      "59.39439453574742 0.99\n",
      "58.860840380744094 0.99\n",
      "58.33418334560324 0.99\n",
      "57.81433427299763 0.99\n",
      "57.30120515811427 0.99\n",
      "56.79470913375619 0.99\n",
      "56.294760455636755 0.99\n",
      "55.80127448786401 0.99\n",
      "55.31416768861291 0.99\n",
      "54.83335759598243 0.99\n",
      "54.35876281403571 0.99\n",
      "53.890302999020626 0.99\n",
      "53.427898845768496 0.99\n",
      "52.971472074268505 0.99\n"
     ]
    },
    {
     "data": {
      "image/png": "[encoded data removed]",
      "text/plain": [
       "<Figure size 432x288 with 1 Axes>"
      ]
     },
     "metadata": {
      "needs_background": "light"
     },
     "output_type": "display_data"
    },
    {
     "data": {
      "image/png": "[encoded data removed]",
      "text/plain": [
       "<Figure size 432x288 with 1 Axes>"
      ]
     },
     "metadata": {
      "needs_background": "light"
     },
     "output_type": "display_data"
    }
   ],
   "source": [
    "ETA = .0001\n",
    "ITERS = 100\n",
    "\n",
    "# Using the slide on Gradient descent as a guide (along with the pseudocode below)\n",
    "# finish the implementation of gradient descent below\n",
    "\n",
    "\n",
    "plt1 = plt.ylabel(\"Loss\")\n",
    "plt1 = plt.xlabel(\"Iterations\")\n",
    "\n",
    "\n",
    "for i in range(ITERS):\n",
    "\n",
    "    old_loss = loss(weights=w, features=X, labels=y)\n",
    "\n",
    "    ## implement the gradient descent step here\n",
    "    w += - ETA * grad(w, X, y)\n",
    "    \n",
    "    new_loss = loss(weights=w, features=X, labels=y)\n",
    "    acc = accuracy(X= X, w= w, y=y)\n",
    "    plt1 = plt.figure(1)\n",
    "    \n",
    "    plt1 = plt.scatter(i, new_loss)\n",
    "    plt2 = plt.figure(2)\n",
    "    plt2 = plt.scatter(i, acc)\n",
    "\n",
    "    ## the new_loss should be smaller than the old_loss, if you used eta = .0001\n",
    "    \n",
    "    print(loss(weights=w, features=X, labels=y), acc) # this should go down each iteration\n"
   ]
  },
  {
   "cell_type": "markdown",
   "metadata": {},
   "source": [
    "### Loss by iteration\n",
    "\n",
    "Modify the gradient descent code to plot the loss at each iteration of the algorithm. What do you observe?\n",
    "\n",
    "As the iterations increase, the loss decreases."
   ]
  },
  {
   "cell_type": "markdown",
   "metadata": {},
   "source": [
    "### Random search vs. gradient descent\n",
    "\n",
    "Examine the value of the loss after 100 iterations of random search and 100 iterations of gradient descent. Which one optimizes faster? Does that make sense?\n",
    "\n",
    "The gradient descent optimizes faster because it is actually adjusting the weights based on the learning rate multipled by the negative gradient. Random search is simply comparing 100 iterations of random weights wich may very far off from the optimal weights."
   ]
  },
  {
   "cell_type": "markdown",
   "metadata": {},
   "source": [
    "### Accuracy by loss \n",
    "\n",
    "Modify the gradient descent code to use the `accuracy` function to measure the accuracy at each iteration of the algorithm. Plot the relationship between accuracy and loss. What do you observe? Does that make sense?\n",
    "\n",
    "This makes sense because the weights are being continually updated to better predict the class labels of the data. The loss is also decreasing as the number of interations increases. This means that Adaline is doing a better job of predicting the labels."
   ]
  },
  {
   "cell_type": "markdown",
   "metadata": {},
   "source": [
    "### Learning rates\n",
    "\n",
    "Try varing the learning rate eta by increasing or decreasing eta by powers of 10. Make a plot showing the learning rate and the accuracy after 100 iterations, for different valuse of eta. Does the algorithm achieve high accuracy for all eta, or only for some learning rates? Why might this be the case?\n",
    "\n",
    "In the cases I tested, the algorithm eventually achieved high accuracy in every case. Theoretically, if an eta is too large the alorithm will overshoot the min, but since the loss function is convex, the negative gradient always points in the direction of the min. Generally, the algorithm should reach the min after enough iterations."
   ]
  },
  {
   "cell_type": "code",
   "execution_count": 6,
   "metadata": {},
   "outputs": [
    {
     "data": {
      "image/png": "[encoded data removed]",
      "text/plain": [
       "<Figure size 432x288 with 1 Axes>"
      ]
     },
     "metadata": {
      "needs_background": "light"
     },
     "output_type": "display_data"
    }
   ],
   "source": [
    "\n",
    "def GD(eta, ITERS = 100, X = X, y= y):\n",
    "    w = np.random.rand(F).reshape(F,1)\n",
    "    plt2 = plt.ylabel(\"Accuracy\")\n",
    "    plt2 = plt.xlabel(\"Iterations\")\n",
    "    plt2 = plt.title(\"ETA = \" + str(eta))\n",
    "\n",
    "\n",
    "    for i in range(ITERS):\n",
    "\n",
    "        old_loss = loss(weights=w, features=X, labels=y)\n",
    "\n",
    "        ## implement the gradient descent step here\n",
    "        w += - ETA * grad(w, X, y)\n",
    "\n",
    "        new_loss = loss(weights=w, features=X, labels=y)\n",
    "        acc = accuracy(X= X, w= w, y=y)\n",
    "        plt2 = plt.scatter(i, acc)\n",
    "\n",
    "        ## the new_loss should be smaller than the old_loss, if you used eta = .0001\n",
    "GD(0.0001)"
   ]
  },
  {
   "cell_type": "code",
   "execution_count": 7,
   "metadata": {},
   "outputs": [
    {
     "data": {
      "image/png": "[encoded data removed]",
      "text/plain": [
       "<Figure size 432x288 with 1 Axes>"
      ]
     },
     "metadata": {
      "needs_background": "light"
     },
     "output_type": "display_data"
    }
   ],
   "source": [
    "GD(0.000001)"
   ]
  },
  {
   "cell_type": "code",
   "execution_count": 8,
   "metadata": {},
   "outputs": [
    {
     "data": {
      "image/png": "[encoded data removed]",
      "text/plain": [
       "<Figure size 432x288 with 1 Axes>"
      ]
     },
     "metadata": {
      "needs_background": "light"
     },
     "output_type": "display_data"
    }
   ],
   "source": [
    "GD(0.01)"
   ]
  },
  {
   "cell_type": "code",
   "execution_count": 9,
   "metadata": {},
   "outputs": [
    {
     "data": {
      "image/png": "[encoded data removed]",
      "text/plain": [
       "<Figure size 432x288 with 1 Axes>"
      ]
     },
     "metadata": {
      "needs_background": "light"
     },
     "output_type": "display_data"
    }
   ],
   "source": [
    "GD(1)"
   ]
  },
  {
   "cell_type": "code",
   "execution_count": null,
   "metadata": {},
   "outputs": [],
   "source": []
  }
 ],
 "metadata": {
  "kernelspec": {
   "display_name": "Python 3",
   "language": "python",
   "name": "python3"
  },
  "language_info": {
   "codemirror_mode": {
    "name": "ipython",
    "version": 3
   },
   "file_extension": ".py",
   "mimetype": "text/x-python",
   "name": "python",
   "nbconvert_exporter": "python",
   "pygments_lexer": "ipython3",
   "version": "3.8.3"
  }
 },
 "nbformat": 4,
 "nbformat_minor": 4
}
