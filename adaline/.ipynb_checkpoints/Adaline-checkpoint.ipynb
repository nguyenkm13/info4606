{
 "cells": [
  {
   "cell_type": "code",
   "execution_count": 1,
   "metadata": {
    "scrolled": false
   },
   "outputs": [],
   "source": [
    "'''Load this code, you don't have to change anything'''\n",
    "\n",
    "import numpy as np\n",
    "import matplotlib.pyplot as plt\n",
    "from sklearn import datasets\n",
    "\n",
    "def predict(X, w):\n",
    "    a = X.dot(w) < 0  \n",
    "    a = a.astype(int)  # will be True if less than zero\n",
    "    a[a == 1] = -1     # hence gets the label -1\n",
    "    a[a == 0] = 1      # else gets the label 1 b/c greater than 0\n",
    "    return a\n",
    "\n",
    "def accuracy(X, w, y):\n",
    "    return np.sum(predict(X, w) == y)/y.size\n",
    "\n",
    "def loss(weights, features, labels):\n",
    "    return np.sum((labels - features.dot(weights)) ** 2)\n",
    "\n",
    "def grad(weights, features, labels):\n",
    "    a =  -2 * np.multiply(features, (labels - features.dot(weights)))\n",
    "    return np.sum(a, axis=0).reshape(-1, 1)\n"
   ]
  },
  {
   "cell_type": "code",
   "execution_count": 2,
   "metadata": {},
   "outputs": [],
   "source": [
    "# Load the iris dataset\n",
    "\n",
    "iris = datasets.load_iris()\n",
    "N = 100\n",
    "X = iris.data[:, :2][0:N]  # we only take the first two features and 100 rows\n",
    "y = iris.target[0:N]       # we only take the first two features and 100 rows\n",
    " \n",
    "N, F = X.shape\n",
    "\n",
    "y = y.reshape(N,1)\n",
    "\n",
    "y[y == 0] = -1\n",
    "\n",
    "# Initialize the weights\n",
    "\n",
    "w = np.random.rand(F).reshape(F,1)"
   ]
  },
  {
   "cell_type": "markdown",
   "metadata": {},
   "source": [
    "### Building intuition for the loss function \n",
    "\n",
    "Describe the loss function for Adeline in your own words. What does the equation say? \n",
    "\n",
    "The loss function is the sum of the squared difference of the target variable (labels) and the net input to the output unit (features.dot(weights)). This function returns the SSE, which we want to minimize."
   ]
  },
  {
   "cell_type": "markdown",
   "metadata": {},
   "source": [
    "### Examining the existing code\n",
    "\n",
    "Using the slides on Adeline as a guide, please examine the `predict`, `accuracy`, `loss` and `grad` functions above. Please describe in your own words what each function is doing \n",
    "\n",
    "The predict function takes the features dotted with the weights to create a bipolar class label based on the value of the dot product and returns a vector of predicted classifications for each observation.\n",
    "\n",
    "The accuracy function sums the number of correctly classified observations from the predict function and divides that sum by the total number of observation to obtain a percentage of correct classifications.\n",
    "\n",
    "The grad function calculates the gradient of the cost function and returns a scalar sum of each of the gradient components across all weights."
   ]
  },
  {
   "cell_type": "markdown",
   "metadata": {},
   "source": [
    "### Optimization: Random search\n",
    "\n",
    "In a minute we will optimize Adeline via a gradient-based technique. But first, let's take a minute to understand *why* we even want to do this and *what* we are even doing in the first place. We can also optimize the method via random search. To be clear, this is a bad way to actually optimize the function. But it is a great way to build intution for what is actually happening in gradient descent.\n",
    "\n",
    "Start off by implementing the `get_random_weights` function below. The function should return weights returned at random."
   ]
  },
  {
   "cell_type": "code",
   "execution_count": 3,
   "metadata": {},
   "outputs": [],
   "source": [
    "def get_random_weights(NumFeatures=2):\n",
    "    w_ = np.random.rand(NumFeatures).reshape(NumFeatures,1)\n",
    "    return w_\n",
    "    '''\n",
    "    \n",
    "    Return a vector of shape NumFeatures X 1, filled at random. Numpy has functions for this\n",
    "    \n",
    "    For this assignment NumFeatures=2\n",
    "    '''\n",
    "    pass\n"
   ]
  },
  {
   "cell_type": "code",
   "execution_count": 4,
   "metadata": {},
   "outputs": [
    {
     "data": {
      "text/plain": [
       "(array([[0.14072422],\n",
       "        [0.01648144]]),\n",
       " 156.18206273632129)"
      ]
     },
     "execution_count": 4,
     "metadata": {},
     "output_type": "execute_result"
    }
   ],
   "source": [
    "def random_search(features, labels, iters=100):\n",
    "    '''\n",
    "    Implement this random search function\n",
    "    Pseudocode is provided for you. Random search\n",
    "    just keeps trying different weights at random\n",
    "    and then returns the best weights it has found so far\n",
    "    '''\n",
    "    \n",
    "    # initialize current_w and best_loss\n",
    "    current_w = get_random_weights(2)\n",
    "    best_loss = 10000\n",
    "    \n",
    "    for i in range(iters):\n",
    "        new_w = get_random_weights(2)\n",
    "        new_loss = loss(new_w, features, labels)\n",
    "\n",
    "                \n",
    "        # Implement the following... \n",
    "        # If the new_loss is less than the best_loss \n",
    "        # Then replace current_w with new_w and replace best_loss with the new loss\n",
    "        \n",
    "        if(new_loss < best_loss):\n",
    "            current_w = new_w\n",
    "            best_loss = new_loss\n",
    "\n",
    "        \n",
    "    # return the best weights you found, during your random search\n",
    "    return current_w, best_loss\n",
    "\n",
    "\n",
    "random_search(features=X, labels=y)"
   ]
  },
  {
   "cell_type": "markdown",
   "metadata": {},
   "source": [
    "\n",
    "### Optimization: Gradient descent\n",
    "\n",
    "Random search is not a great way to optimize most functions, especially if you know the gradient which always points in the direction of greatest increase of a function. We will optimize Adeline with gradient *descent*, which takes steps in the *opposite* direction of the gradient. Why does that make sense? Hint: you should describe the Adeline loss function?\n",
    "\n",
    "The gradient will always point in the direction of greatest increase. In this case the Adaline loss function is convex which means that the direction of greatest increase always is up and away from the min. Since we want to minimize the loss function, we move in the opposite direction of the gradient towards the min."
   ]
  },
  {
   "cell_type": "code",
   "execution_count": 5,
   "metadata": {
    "scrolled": false
   },
   "outputs": [
    {
     "name": "stdout",
     "output_type": "stream",
     "text": [
      "99.189823934534 0.5\n",
      "94.93652865549363 0.5\n",
      "93.8113378061194 0.58\n",
      "92.82743267773408 0.72\n",
      "91.86147323633801 0.82\n",
      "90.90821607861513 0.86\n",
      "89.96729032596936 0.87\n",
      "89.03852804964221 0.9\n",
      "88.12177166391055 0.91\n",
      "87.21686595715973 0.95\n",
      "86.32365773805637 0.97\n",
      "85.44199579610614 0.97\n",
      "84.57173087549822 0.97\n",
      "83.7127156498149 0.97\n",
      "82.86480469708992 0.98\n",
      "82.02785447519015 0.98\n",
      "81.20172329751529 0.98\n",
      "80.38627130901202 0.98\n",
      "79.58136046249787 0.98\n",
      "78.78685449529159 0.98\n",
      "78.00261890614514 0.99\n",
      "77.22852093247415 0.99\n",
      "76.46442952788273 0.99\n",
      "75.71021533997853 0.99\n",
      "74.96575068847505 0.99\n",
      "74.23090954357657 0.99\n",
      "73.5055675046427 0.99\n",
      "72.78960177912879 0.99\n",
      "72.08289116179833 0.99\n",
      "71.38531601420436 0.99\n",
      "70.69675824443593 0.99\n",
      "70.01710128712632 0.99\n",
      "69.34623008372004 0.99\n",
      "68.68403106299434 0.99\n",
      "68.03039212183305 0.99\n",
      "67.38520260624871 0.99\n",
      "66.74835329265 0.99\n",
      "66.1197363693514 0.99\n",
      "65.49924541832179 0.99\n",
      "64.88677539716915 0.99\n",
      "64.28222262135783 0.99\n",
      "63.68548474665612 0.99\n",
      "63.0964607518103 0.99\n",
      "62.51505092144286 0.99\n",
      "61.941156829171845 0.99\n",
      "61.37468132094828 0.99\n",
      "60.81552849860907 0.99\n",
      "60.26360370364244 0.99\n",
      "59.71881350116328 0.99\n",
      "59.181065664095726 0.99\n",
      "58.65026915755997 0.99\n",
      "58.12633412346113 0.99\n",
      "57.60917186527723 0.99\n",
      "57.098694833043886 0.99\n",
      "56.59481660853293 0.99\n",
      "56.09745189062287 0.99\n",
      "55.60651648085823 0.99\n",
      "55.12192726919576 0.99\n",
      "54.64360221993471 0.99\n",
      "54.17146035782917 0.99\n",
      "53.70542175437974 0.99\n",
      "53.245407514302606 0.99\n",
      "52.791339762173315 0.99\n",
      "52.34314162924344 0.99\n",
      "51.900737240427354 0.99\n",
      "51.46405170145761 0.99\n",
      "51.033011086206 0.99\n",
      "50.60754242416871 0.99\n",
      "50.187573688113226 0.99\n",
      "49.77303378188486 0.99\n",
      "49.36385252837097 0.99\n",
      "48.959960657620776 0.99\n",
      "48.561289795118626 0.99\n",
      "48.167772450208936 0.99\n",
      "47.779342004670866 0.99\n",
      "47.395932701440444 0.99\n",
      "47.01747963347869 0.99\n",
      "46.64391873278351 0.99\n",
      "46.27518675954372 0.99\n",
      "45.91122129143319 0.99\n",
      "45.551960713043464 0.99\n",
      "45.19734420545288 0.99\n",
      "44.84731173593064 0.99\n",
      "44.501804047773916 0.99\n",
      "44.16076265027631 0.99\n",
      "43.82412980882603 0.99\n",
      "43.491848535132 0.99\n",
      "43.16386257757641 0.99\n",
      "42.84011641169194 0.99\n",
      "42.520555230762014 0.99\n",
      "42.20512493654265 0.99\n",
      "41.89377213010421 0.99\n",
      "41.586444102791546 0.99\n",
      "41.28308882730096 0.99\n",
      "40.98365494887262 0.99\n",
      "40.688091776596664 0.99\n",
      "40.39634927483184 0.99\n",
      "40.10837805473505 0.99\n",
      "39.824129365900205 0.99\n",
      "39.543555088105485 0.99\n"
     ]
    },
    {
     "data": {
      "image/png": "[encoded data removed]",
      "text/plain": [
       "<Figure size 432x288 with 1 Axes>"
      ]
     },
     "metadata": {
      "needs_background": "light"
     },
     "output_type": "display_data"
    },
    {
     "data": {
      "image/png": "[encoded data removed]",
      "text/plain": [
       "<Figure size 432x288 with 1 Axes>"
      ]
     },
     "metadata": {
      "needs_background": "light"
     },
     "output_type": "display_data"
    }
   ],
   "source": [
    "ETA = .0001\n",
    "ITERS = 100\n",
    "\n",
    "# Using the slide on Gradient descent as a guide (along with the pseudocode below)\n",
    "# finish the implementation of gradient descent below\n",
    "\n",
    "\n",
    "plt1 = plt.ylabel(\"Loss\")\n",
    "plt1 = plt.xlabel(\"Iterations\")\n",
    "\n",
    "\n",
    "for i in range(ITERS):\n",
    "\n",
    "    old_loss = loss(weights=w, features=X, labels=y)\n",
    "\n",
    "    ## implement the gradient descent step here\n",
    "    w += - ETA * grad(w, X, y)\n",
    "    \n",
    "    new_loss = loss(weights=w, features=X, labels=y)\n",
    "    acc = accuracy(X= X, w= w, y=y)\n",
    "    plt1 = plt.figure(1)\n",
    "    \n",
    "    plt1 = plt.scatter(i, new_loss)\n",
    "    plt2 = plt.figure(2)\n",
    "    plt2 = plt.scatter(i, acc)\n",
    "\n",
    "    ## the new_loss should be smaller than the old_loss, if you used eta = .0001\n",
    "    \n",
    "    print(loss(weights=w, features=X, labels=y), acc) # this should go down each iteration\n"
   ]
  },
  {
   "cell_type": "markdown",
   "metadata": {},
   "source": [
    "### Loss by iteration\n",
    "\n",
    "Modify the gradient descent code to plot the loss at each iteration of the algorithm. What do you observe?\n",
    "\n",
    "As the iterations increase, the loss decreases."
   ]
  },
  {
   "cell_type": "markdown",
   "metadata": {},
   "source": [
    "### Random search vs. gradient descent\n",
    "\n",
    "Examine the value of the loss after 100 iterations of random search and 100 iterations of gradient descent. Which one optimizes faster? Does that make sense?\n",
    "\n",
    "The gradient descent optimizes faster because it is actually adjusting the weights based on the learning rate multipled by the negative gradient. Random search is simply comparing 100 iterations of random weights wich may very far off from the optimal weights."
   ]
  },
  {
   "cell_type": "markdown",
   "metadata": {},
   "source": [
    "### Accuracy by loss \n",
    "\n",
    "Modify the gradient descent code to use the `accuracy` function to measure the accuracy at each iteration of the algorithm. Plot the relationship between accuracy and loss. What do you observe? Does that make sense?\n",
    "\n",
    "This makes sense because the weights are being continually updated to better predict the class labels of the data. The loss is also decreasing as the number of interations increases. This means that Adaline is doing a better job of predicting the labels."
   ]
  },
  {
   "cell_type": "markdown",
   "metadata": {},
   "source": [
    "### Learning rates\n",
    "\n",
    "Try varing the learning rate eta by increasing or decreasing eta by powers of 10. Make a plot showing the learning rate and the accuracy after 100 iterations, for different valuse of eta. Does the algorithm achieve high accuracy for all eta, or only for some learning rates? Why might this be the case?\n",
    "\n",
    "In the cases I tested, the algorithm eventually achieved high accuracy in every case. Theoretically, if an eta is too large the alorithm will overshoot the min, but since the loss function is convex, the negative gradient always points in the direction of the min. Generally, the algorithm should reach the min after enough iterations."
   ]
  },
  {
   "cell_type": "code",
   "execution_count": 6,
   "metadata": {},
   "outputs": [
    {
     "data": {
      "image/png": "[encoded data removed]",
      "text/plain": [
       "<Figure size 432x288 with 1 Axes>"
      ]
     },
     "metadata": {
      "needs_background": "light"
     },
     "output_type": "display_data"
    }
   ],
   "source": [
    "\n",
    "def GD(eta, ITERS = 100, X = X, y= y):\n",
    "    w = np.random.rand(F).reshape(F,1)\n",
    "    plt2 = plt.ylabel(\"Accuracy\")\n",
    "    plt2 = plt.xlabel(\"Iterations\")\n",
    "    plt2 = plt.title(\"ETA = \" + str(eta))\n",
    "\n",
    "\n",
    "    for i in range(ITERS):\n",
    "\n",
    "        old_loss = loss(weights=w, features=X, labels=y)\n",
    "\n",
    "        ## implement the gradient descent step here\n",
    "        w += - ETA * grad(w, X, y)\n",
    "\n",
    "        new_loss = loss(weights=w, features=X, labels=y)\n",
    "        acc = accuracy(X= X, w= w, y=y)\n",
    "        plt2 = plt.scatter(i, acc)\n",
    "\n",
    "        ## the new_loss should be smaller than the old_loss, if you used eta = .0001\n",
    "GD(0.0001)"
   ]
  },
  {
   "cell_type": "code",
   "execution_count": 7,
   "metadata": {},
   "outputs": [
    {
     "data": {
      "image/png": "[encoded data removed]",
      "text/plain": [
       "<Figure size 432x288 with 1 Axes>"
      ]
     },
     "metadata": {
      "needs_background": "light"
     },
     "output_type": "display_data"
    }
   ],
   "source": [
    "GD(0.000001)"
   ]
  },
  {
   "cell_type": "code",
   "execution_count": 8,
   "metadata": {},
   "outputs": [
    {
     "data": {
      "image/png": "[encoded data removed]",
      "text/plain": [
       "<Figure size 432x288 with 1 Axes>"
      ]
     },
     "metadata": {
      "needs_background": "light"
     },
     "output_type": "display_data"
    }
   ],
   "source": [
    "GD(0.01)"
   ]
  },
  {
   "cell_type": "code",
   "execution_count": 9,
   "metadata": {},
   "outputs": [
    {
     "data": {
      "image/png": "[encoded data removed]",
      "text/plain": [
       "<Figure size 432x288 with 1 Axes>"
      ]
     },
     "metadata": {
      "needs_background": "light"
     },
     "output_type": "display_data"
    }
   ],
   "source": [
    "GD(1)"
   ]
  },
  {
   "cell_type": "code",
   "execution_count": null,
   "metadata": {},
   "outputs": [],
   "source": []
  }
 ],
 "metadata": {
  "kernelspec": {
   "display_name": "Python 3",
   "language": "python",
   "name": "python3"
  },
  "language_info": {
   "codemirror_mode": {
    "name": "ipython",
    "version": 3
   },
   "file_extension": ".py",
   "mimetype": "text/x-python",
   "name": "python",
   "nbconvert_exporter": "python",
   "pygments_lexer": "ipython3",
   "version": "3.8.3"
  }
 },
 "nbformat": 4,
 "nbformat_minor": 4
}
