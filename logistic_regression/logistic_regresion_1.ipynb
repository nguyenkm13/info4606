{
 "cells": [
  {
   "cell_type": "code",
   "execution_count": 1,
   "metadata": {},
   "outputs": [],
   "source": [
    "%matplotlib inline\n",
    "\n",
    "import math\n",
    "import matplotlib.pyplot as plt\n",
    "import numpy as np\n",
    "import random\n",
    "import pandas as pd"
   ]
  },
  {
   "cell_type": "code",
   "execution_count": 2,
   "metadata": {},
   "outputs": [
    {
     "data": {
      "text/plain": [
       "[<matplotlib.lines.Line2D at 0x7f84f214ddf0>]"
      ]
     },
     "execution_count": 2,
     "metadata": {},
     "output_type": "execute_result"
    },
    {
     "data": {
      "image/png": "[encoded data removed]",
      "text/plain": [
       "<Figure size 432x288 with 1 Axes>"
      ]
     },
     "metadata": {
      "needs_background": "light"
     },
     "output_type": "display_data"
    }
   ],
   "source": [
    "## Here is the logistic function, the activation function for logistic regression\n",
    "\n",
    "def logistic(z):\n",
    "    return 1/(1 + np.exp(-z))\n",
    "\n",
    "x, fz = [], []\n",
    "for z in range(-10, 10):\n",
    "    x.append(z)\n",
    "    fz.append(logistic(z))\n",
    "\n",
    "plt.plot(x, fz)"
   ]
  },
  {
   "cell_type": "markdown",
   "metadata": {},
   "source": [
    "1. What is the domain of the logistic function? \n",
    "\n",
    "The real line. $$(-\\infty, \\infty)$$\n",
    "\n",
    "2. What is the range of the logistic function?\n",
    "\n",
    "$$(0, 1)$$\n",
    "\n",
    "3. Why do you think the logistic function might be a convenient activation function for modeling probabilities?\n",
    "\n",
    "Probabilities range from 0 to 1\n",
    "\n",
    "4. What is the denominator when z is very big? How about when z is very small?\n",
    "\n",
    "The denominator approaches 1 when z is very large. \n",
    "The demoninator approaches 0 when z is very small."
   ]
  },
  {
   "cell_type": "code",
   "execution_count": 3,
   "metadata": {},
   "outputs": [
    {
     "data": {
      "image/png": "[encoded data removed]",
      "text/plain": [
       "<Figure size 432x288 with 1 Axes>"
      ]
     },
     "metadata": {
      "needs_background": "light"
     },
     "output_type": "display_data"
    }
   ],
   "source": [
    "## Let's generate some features, weights and y values and compute the loss \n",
    "## This can help you build up intuition for what is happening\n",
    "\n",
    "def log_prob(z, y_i):\n",
    "    '''\n",
    "    Returns the log_prob for one point\n",
    "    '''\n",
    "    fz = logistic(z)\n",
    "    return y_i * np.log(fz) + (1 - y_i) * np.log(1 - fz)\n",
    "\n",
    "\n",
    "out = []\n",
    "\n",
    "dim_ = 10\n",
    "\n",
    "for _ in range(1000):\n",
    "    # generate some random weights \n",
    "    w = np.random.uniform(low=-2, high=2, size=dim_)\n",
    "    \n",
    "    # generate some random binary features \n",
    "    x = (np.random.rand(dim_) > .5).astype(int) \n",
    "    \n",
    "    # get the z score\n",
    "    z = w.dot(x)\n",
    "\n",
    "    # randomly assign y\n",
    "    y = 1 if random.random() < .5 else 0\n",
    "    \n",
    "    # compute the loss\n",
    "    loss = log_prob(z=z, y_i=y)\n",
    "    \n",
    "    # keep track of what is happening\n",
    "    out.append({\"z\": z, \"loss\": loss, \"label\": y})\n",
    "\n",
    "\n",
    "# Plot the results\n",
    "df = pd.DataFrame(out)\n",
    "    \n",
    "fig, ax = plt.subplots()\n",
    "ax.plot(df[df[\"label\"] == 1][\"z\"], df[df[\"label\"] == 1][\"loss\"], 'x', color=\"red\", label='1')\n",
    "ax.plot(df[df[\"label\"] == 0][\"z\"], df[df[\"label\"] == 0][\"loss\"], 'o', color=\"blue\", label='0')\n",
    "plt.xlabel(\"z\")\n",
    "plt.ylabel(\"log_prob\")\n",
    "plt.legend()\n",
    "plt.show()"
   ]
  },
  {
   "cell_type": "markdown",
   "metadata": {},
   "source": [
    "5. What is the log_prob when y=1 and z=-.25? Why does that make sense?\n",
    "\n",
    "-0.8259394198788435\n",
    "\n",
    "6. What is the log_prob when y=0 and z=-.25? Why does that make sense?\n",
    "\n",
    "-0.5759394198788437\n",
    "\n",
    "7 . Why is the log_prob always negative? \n",
    "\n",
    "Probabilities are always between 0 and 1. The log of any number between 0 and 1 is negative."
   ]
  },
  {
   "cell_type": "code",
   "execution_count": 4,
   "metadata": {},
   "outputs": [
    {
     "data": {
      "text/plain": [
       "-0.5759394198788437"
      ]
     },
     "execution_count": 4,
     "metadata": {},
     "output_type": "execute_result"
    }
   ],
   "source": [
    "log_prob(-0.25, 1)\n",
    "log_prob(-0.25, 0)"
   ]
  },
  {
   "cell_type": "code",
   "execution_count": 9,
   "metadata": {},
   "outputs": [
    {
     "name": "stdout",
     "output_type": "stream",
     "text": [
      "(10000,)\n"
     ]
    }
   ],
   "source": [
    "def neg_log_likelihood(X, w, y):\n",
    "    '''Compute the negative log likelihood'''\n",
    "    L = 0\n",
    "    for _x,_y in zip(X, y):\n",
    "        z = w.dot(_x)\n",
    "        L += log_prob(z=z, y_i=_y)\n",
    "    return -1 * L\n",
    "\n",
    "\n",
    "def fast_logistic(X, w):\n",
    "    '''Compute the logistic function over many data points'''\n",
    "    return 1/(1 + np.exp(-1 * X.dot(w)))\n",
    "\n",
    "\n",
    "def grad(X, w, y):\n",
    "    '''Return the gradient'''\n",
    "    grad = np.zeros_like(w)\n",
    "    for _x,_y in zip(X, y):\n",
    "        fz = logistic(w.dot(_x))\n",
    "        grad += _x * (_y - fz)\n",
    "    return grad    \n",
    "\n",
    "\n",
    "def grad_ascent(X, y, eta = .0001, tolerance=1e-4, verbose=True):\n",
    "    '''\n",
    "    - Perform gradient ascent\n",
    "    - This function is basically the same as in the Adeline notebook\n",
    "    - Of course, the gradient is different, because it is a different function\n",
    "    '''\n",
    "    w = np.random.rand(dim_)\n",
    "    last = 0\n",
    "    for i in range(1000):\n",
    "        this_ll = neg_log_likelihood(X, w, y)\n",
    "#         if verbose:\n",
    "#             print(\"iter: {}, neg ll: {}, accuracy: {}\".format(i, this_ll, accuracy(X, w, y)))\n",
    "        if(abs(this_ll - last) < tolerance): break\n",
    "        last = this_ll\n",
    "        w += eta * grad(X, w, y)\n",
    "    return w\n",
    "\n",
    "def prediction(X, w, threshold=.5):\n",
    "    '''\n",
    "    - Return a Boolean array of length N.\n",
    "    - The array should be True if the weights dotted with the features for a given instance is greater than .5\n",
    "    '''\n",
    "    N, D = X.shape\n",
    "    fz = fast_logistic(X, w)\n",
    "    preds = fz > threshold\n",
    "    \n",
    "    return preds\n",
    "\n",
    "def accuracy(X, w, y):\n",
    "    '''\n",
    "    Return a value between 0 and 1, showing the fraction of data points which have been classified correctly\n",
    "    '''\n",
    "    preds = (prediction(X, w) == y)\n",
    "    return sum(preds) / preds.shape\n",
    "    pass\n",
    "\n",
    "def init_data(N, dim_):\n",
    "    '''\n",
    "    Initialize data. Note how we generate y below. We know how the data is generated.\n",
    "    We should be able to \n",
    "    '''\n",
    "    w = np.random.uniform(low=-2, high=2, size=dim_)\n",
    "    X = (np.random.rand(dim_ * N) > .5).astype(int)\n",
    "    X = X.reshape(N, dim_)\n",
    "    \n",
    "    \n",
    "    z_ = X[:,0] * 2 +  X[:,1] * -2 +  X[:,2] * 3 + X[:,3] * 4\n",
    "\n",
    "    y =  1/(1 + np.exp(-1 * z_)) > .5\n",
    "    \n",
    "    print(z_.shape)\n",
    "    \n",
    "    return X, y\n",
    "\n",
    "N = 10000\n",
    "dim_ = 4\n",
    "X, y = init_data(N, dim_)\n",
    "w = grad_ascent(X, y, eta=.0001, tolerance=5, verbose=True)\n",
    "\n",
    "# TODO: \n",
    "# This code implements gradient ascent for logistic regression\n",
    "# Code the accuracy and prediction functions to complete the implementation\n",
    "# Your accuracy should go up as the negative LL goes down\n",
    "# Use the slides as a reference to understand how to implement the prediction function\n",
    "# When you are done, go to the final question in the notebook"
   ]
  },
  {
   "cell_type": "code",
   "execution_count": 6,
   "metadata": {},
   "outputs": [
    {
     "data": {
      "text/plain": [
       "array([ 0.94450251, -1.63918077,  3.55332722,  3.59425111])"
      ]
     },
     "execution_count": 6,
     "metadata": {},
     "output_type": "execute_result"
    }
   ],
   "source": [
    "w"
   ]
  },
  {
   "cell_type": "markdown",
   "metadata": {},
   "source": [
    "Look closely at the `init_data` function, especially at how the function uses the `z_` variable to fill the values of the labels `y`. Then look at the weights `w` learned during training. Do you notice anything about the signs of the weights `w` and the coefficients in the equation filling `z_`? Do you have any ideas about why that might be the case?\n",
    "\n",
    "The weights have the same sign as the inital weight multiplier in the z_ calculation. \n"
   ]
  },
  {
   "cell_type": "code",
   "execution_count": null,
   "metadata": {},
   "outputs": [],
   "source": []
  }
 ],
 "metadata": {
  "kernelspec": {
   "display_name": "Python 3",
   "language": "python",
   "name": "python3"
  },
  "language_info": {
   "codemirror_mode": {
    "name": "ipython",
    "version": 3
   },
   "file_extension": ".py",
   "mimetype": "text/x-python",
   "name": "python",
   "nbconvert_exporter": "python",
   "pygments_lexer": "ipython3",
   "version": "3.8.3"
  }
 },
 "nbformat": 4,
 "nbformat_minor": 4
}
