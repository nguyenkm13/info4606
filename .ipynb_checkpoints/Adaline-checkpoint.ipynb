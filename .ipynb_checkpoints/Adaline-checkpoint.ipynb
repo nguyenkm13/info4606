{
 "cells": [
  {
   "cell_type": "code",
   "execution_count": 1,
   "metadata": {
    "scrolled": false
   },
   "outputs": [],
   "source": [
    "'''Load this code, you don't have to change anything'''\n",
    "\n",
    "import numpy as np\n",
    "import matplotlib.pyplot as plt\n",
    "from sklearn import datasets\n",
    "\n",
    "def predict(X, w):\n",
    "    a = X.dot(w) < 0  \n",
    "    a = a.astype(int)  # will be True if less than zero\n",
    "    a[a == 1] = -1     # hence gets the label -1\n",
    "    a[a == 0] = 1      # else gets the label 1 b/c greater than 0\n",
    "    return a\n",
    "\n",
    "def accuracy(X, w, y):\n",
    "    return np.sum(predict(X, w) == y)/y.size\n",
    "\n",
    "def loss(weights, features, labels):\n",
    "    return np.sum((labels - features.dot(weights)) ** 2)\n",
    "\n",
    "def grad(weights, features, labels):\n",
    "    a =  -2 * np.multiply(features, (labels - features.dot(weights)))\n",
    "    return np.sum(a, axis=0).reshape(-1, 1)\n"
   ]
  },
  {
   "cell_type": "code",
   "execution_count": 58,
   "metadata": {},
   "outputs": [],
   "source": [
    "# Load the iris dataset\n",
    "\n",
    "iris = datasets.load_iris()\n",
    "N = 100\n",
    "X = iris.data[:, :2][0:N]  # we only take the first two features and 100 rows\n",
    "y = iris.target[0:N]       # we only take the first two features and 100 rows\n",
    " \n",
    "N, F = X.shape\n",
    "\n",
    "y = y.reshape(N,1)\n",
    "\n",
    "y[y == 0] = -1\n",
    "\n",
    "# Initialize the weights\n",
    "\n",
    "w = np.random.rand(F).reshape(F,1)"
   ]
  },
  {
   "cell_type": "markdown",
   "metadata": {},
   "source": [
    "### Building intuition for the loss function \n",
    "\n",
    "Describe the loss function for Adeline in your own words. What does the equation say? \n",
    "\n",
    "The loss function is the sum of the squared difference of the target variable (labels) and the net input to the output unit (features.dot(weights)). This function returns the SSE, which we want to minimize."
   ]
  },
  {
   "cell_type": "markdown",
   "metadata": {},
   "source": [
    "### Examining the existing code\n",
    "\n",
    "Using the slides on Adeline as a guide, please examine the `predict`, `accuracy`, `loss` and `grad` functions above. Please describe in your own words what each function is doing \n",
    "\n",
    "The predict function takes the features dotted with the weights to create a bipolar class label based on the value of the dot product and returns a vector of predicted classifications for each observation.\n",
    "\n",
    "The accuracy function sums the number of correctly classified observations from the predict function and divides that sum by the total number of observation to obtain a percentage of correct classifications.\n",
    "\n",
    "The grad function calculates the gradient of the cost function and returns a scalar sum of each of the gradient components across all weights."
   ]
  },
  {
   "cell_type": "markdown",
   "metadata": {},
   "source": [
    "### Optimization: Random search\n",
    "\n",
    "In a minute we will optimize Adeline via a gradient-based technique. But first, let's take a minute to understand *why* we even want to do this and *what* we are even doing in the first place. We can also optimize the method via random search. To be clear, this is a bad way to actually optimize the function. But it is a great way to build intution for what is actually happening in gradient descent.\n",
    "\n",
    "Start off by implementing the `get_random_weights` function below. The function should return weights returned at random."
   ]
  },
  {
   "cell_type": "code",
   "execution_count": 3,
   "metadata": {},
   "outputs": [],
   "source": [
    "def get_random_weights(NumFeatures=2):\n",
    "    w_ = np.random.rand(NumFeatures).reshape(NumFeatures,1)\n",
    "    return w_\n",
    "    '''\n",
    "    \n",
    "    Return a vector of shape NumFeatures X 1, filled at random. Numpy has functions for this\n",
    "    \n",
    "    For this assignment NumFeatures=2\n",
    "    '''\n",
    "    pass\n"
   ]
  },
  {
   "cell_type": "code",
   "execution_count": 4,
   "metadata": {},
   "outputs": [
    {
     "data": {
      "text/plain": [
       "(array([[0.05411879],\n",
       "        [0.07334382]]),\n",
       " 714.5210647031687)"
      ]
     },
     "execution_count": 4,
     "metadata": {},
     "output_type": "execute_result"
    }
   ],
   "source": [
    "def random_search(features, labels, iters=100):\n",
    "    '''\n",
    "    Implement this random search function\n",
    "    Pseudocode is provided for you. Random search\n",
    "    just keeps trying different weights at random\n",
    "    and then returns the best weights it has found so far\n",
    "    '''\n",
    "    \n",
    "    # initialize current_w and best_loss\n",
    "    current_w = get_random_weights(2)\n",
    "    best_loss = 10000\n",
    "    \n",
    "    for i in range(iters):\n",
    "        new_w = get_random_weights(2)\n",
    "        new_loss = loss(new_w, features, labels)\n",
    "\n",
    "                \n",
    "        # Implement the following... \n",
    "        # If the new_loss is less than the best_loss \n",
    "        # Then replace current_w with new_w and replace best_loss with the new loss\n",
    "        \n",
    "        if(new_loss < best_loss):\n",
    "            current_w = new_w\n",
    "            best_loss = new_loss\n",
    "\n",
    "        \n",
    "    # return the best weights you found, during your random search\n",
    "    return current_w, new_loss\n",
    "\n",
    "\n",
    "random_search(features=X, labels=y)"
   ]
  },
  {
   "cell_type": "markdown",
   "metadata": {},
   "source": [
    "\n",
    "### Optimization: Gradient descent\n",
    "\n",
    "Random search is not a great way to optimize most functions, especially if you know the gradient which always points in the direction of greatest increase of a function. We will optimize Adeline with gradient *descent*, which takes steps in the *opposite* direction of the gradient. Why does that make sense? Hint: you should describe the Adeline loss function?\n",
    "\n",
    "The gradient will always point in the direction of greatest increase. In this case the Adaline loss function is convex which means that the direction of greatest increase always is up and away from the min. Since we want to minimize the loss function, we move in the opposite direction of the gradient towards the min."
   ]
  },
  {
   "cell_type": "code",
   "execution_count": 59,
   "metadata": {
    "scrolled": false
   },
   "outputs": [
    {
     "name": "stdout",
     "output_type": "stream",
     "text": [
      "419.42312217743176 0.5\n",
      "148.15850346906217 0.5\n",
      "135.50406151190953 0.12\n",
      "133.53409347464122 0.06\n",
      "132.02348968683575 0.06\n",
      "130.55030780135104 0.06\n",
      "129.09690737345247 0.06\n",
      "127.66232512260063 0.06\n",
      "126.24628860959285 0.06\n",
      "124.84855689486987 0.06\n",
      "123.4688933072916 0.07\n",
      "122.10706428269287 0.08\n",
      "120.76283927809608 0.08\n",
      "119.43599073077543 0.09\n",
      "118.12629401965435 0.1\n",
      "116.83352742727641 0.1\n",
      "115.55747210227072 0.09\n",
      "114.29791202230281 0.11\n",
      "113.05463395750446 0.12\n",
      "111.82742743437605 0.12\n",
      "110.61608470015574 0.17\n",
      "109.42040068764926 0.19\n",
      "108.2401729805142 0.22\n",
      "107.07520177899302 0.34\n",
      "105.92528986608926 0.42\n",
      "104.79024257418081 0.45\n",
      "103.6698677520647 0.49\n",
      "102.56397573242812 0.5\n",
      "101.47237929973967 0.5\n",
      "100.39489365855586 0.5\n",
      "99.33133640223737 0.5\n",
      "98.28152748206925 0.5\n",
      "97.24528917678097 0.5\n",
      "96.22244606246001 0.5\n",
      "95.21282498285443 0.54\n",
      "94.21625502005942 0.64\n",
      "93.23256746558282 0.71\n",
      "92.26159579178454 0.8\n",
      "91.3031756236853 0.84\n",
      "90.35714471113958 0.87\n",
      "89.42334290136863 0.89\n",
      "88.50161211184823 0.91\n",
      "87.59179630354694 0.93\n",
      "86.69374145451059 0.97\n",
      "85.80729553378787 0.97\n",
      "84.93230847569322 0.97\n",
      "84.0686321544024 0.97\n",
      "83.21612035887608 0.98\n",
      "82.37462876810834 0.98\n",
      "81.54401492669439 0.98\n",
      "80.72413822071442 0.98\n",
      "79.91485985392947 0.98\n",
      "79.11604282428426 0.98\n",
      "78.32755190071468 0.99\n",
      "77.54925360025439 0.99\n",
      "76.7810161654376 0.99\n",
      "76.02270954199413 0.99\n",
      "75.2742053568324 0.99\n",
      "74.53537689630745 0.99\n",
      "73.80609908476963 0.99\n",
      "73.08624846339058 0.99\n",
      "72.37570316926308 0.99\n",
      "71.67434291477095 0.99\n",
      "70.98204896722561 0.99\n",
      "70.29870412876606 0.99\n",
      "69.62419271651834 0.99\n",
      "68.95840054301196 0.99\n",
      "68.30121489684886 0.99\n",
      "67.65252452362289 0.99\n",
      "67.01221960708544 0.99\n",
      "66.38019175055491 0.99\n",
      "65.75633395856619 0.99\n",
      "65.14054061875747 0.99\n",
      "64.53270748399139 0.99\n",
      "63.93273165470698 0.99\n",
      "63.340511561499866 0.99\n",
      "62.75594694792781 0.99\n",
      "62.17893885353822 0.99\n",
      "61.6093895971153 0.99\n",
      "61.04720276014372 0.99\n",
      "60.49228317048592 0.99\n",
      "59.94453688627053 0.99\n",
      "59.40387117998903 0.99\n",
      "58.87019452279804 0.99\n",
      "58.34341656902438 0.99\n",
      "57.823448140870575 0.99\n",
      "57.31020121331808 0.99\n",
      "56.80358889922551 0.99\n",
      "56.30352543461958 0.99\n",
      "55.80992616417634 0.99\n",
      "55.322707526889715 0.99\n",
      "54.841787041925755 0.99\n",
      "54.36708329465939 0.99\n",
      "53.898515922891846 0.99\n",
      "53.43600560324626 0.99\n",
      "52.97947403773893 0.99\n",
      "52.52884394052454 0.99\n",
      "52.0840390248123 0.99\n",
      "51.64498398995156 0.99\n",
      "51.21160450868412 0.99\n"
     ]
    },
    {
     "data": {
      "image/png": "[encoded data removed]",
      "text/plain": [
       "<Figure size 432x288 with 1 Axes>"
      ]
     },
     "metadata": {
      "needs_background": "light"
     },
     "output_type": "display_data"
    },
    {
     "data": {
      "image/png": "[encoded data removed]",
      "text/plain": [
       "<Figure size 432x288 with 1 Axes>"
      ]
     },
     "metadata": {
      "needs_background": "light"
     },
     "output_type": "display_data"
    }
   ],
   "source": [
    "ETA = .0001\n",
    "ITERS = 100\n",
    "\n",
    "# Using the slide on Gradient descent as a guide (along with the pseudocode below)\n",
    "# finish the implementation of gradient descent below\n",
    "\n",
    "\n",
    "plt1 = plt.ylabel(\"Loss\")\n",
    "plt1 = plt.xlabel(\"Iterations\")\n",
    "\n",
    "\n",
    "for i in range(ITERS):\n",
    "\n",
    "    old_loss = loss(weights=w, features=X, labels=y)\n",
    "\n",
    "    ## implement the gradient descent step here\n",
    "    w += - ETA * grad(w, X, y)\n",
    "    \n",
    "    new_loss = loss(weights=w, features=X, labels=y)\n",
    "    acc = accuracy(X= X, w= w, y=y)\n",
    "    plt1 = plt.figure(1)\n",
    "    \n",
    "    plt1 = plt.scatter(i, new_loss)\n",
    "    plt2 = plt.figure(2)\n",
    "    plt2 = plt.scatter(i, acc)\n",
    "\n",
    "    ## the new_loss should be smaller than the old_loss, if you used eta = .0001\n",
    "    \n",
    "    print(loss(weights=w, features=X, labels=y), acc) # this should go down each iteration\n"
   ]
  },
  {
   "cell_type": "markdown",
   "metadata": {},
   "source": [
    "### Loss by iteration\n",
    "\n",
    "Modify the gradient descent code to plot the loss at each iteration of the algorithm. What do you observe?\n",
    "\n",
    "As the iterations increase, the loss decreases."
   ]
  },
  {
   "cell_type": "markdown",
   "metadata": {},
   "source": [
    "### Random search vs. gradient descent\n",
    "\n",
    "Examine the value of the loss after 100 iterations of random search and 100 iterations of gradient descent. Which one optimizes faster? Does that make sense?\n",
    "\n",
    "The gradient descent optimizes faster because it is actually adjusting the weights based on the learning rate multipled by the negative gradient. Random search is simply comparing 100 iterations of random weights wich may very far off from the optimal weights."
   ]
  },
  {
   "cell_type": "markdown",
   "metadata": {},
   "source": [
    "### Accuracy by loss \n",
    "\n",
    "Modify the gradient descent code to use the `accuracy` function to measure the accuracy at each iteration of the algorithm. Plot the relationship between accuracy and loss. What do you observe? Does that make sense?\n",
    "\n",
    "This makes sense because the weights are being continually updated to better predict the class labels of the data. The loss is also decreasing as the number of interations increases. This means that Adaline is doing a better job of predicting the labels."
   ]
  },
  {
   "cell_type": "markdown",
   "metadata": {},
   "source": [
    "### Learning rates\n",
    "\n",
    "Try varing the learning rate eta by increasing or decreasing eta by powers of 10. Make a plot showing the learning rate and the accuracy after 100 iterations, for different valuse of eta. Does the algorithm achieve high accuracy for all eta, or only for some learning rates? Why might this be the case?\n",
    "\n",
    "In the cases I tested, the algorithm eventually achieved high accuracy in every case. Theoretically, if an eta is too large the alorithm will overshoot the min, but since the loss function is convex, the negative gradient always points in the direction of the min. Generally, the algorithm should reach the min after enough iterations."
   ]
  },
  {
   "cell_type": "code",
   "execution_count": 64,
   "metadata": {},
   "outputs": [
    {
     "data": {
      "image/png": "[encoded data removed]",
      "text/plain": [
       "<Figure size 432x288 with 1 Axes>"
      ]
     },
     "metadata": {
      "needs_background": "light"
     },
     "output_type": "display_data"
    }
   ],
   "source": [
    "\n",
    "def GD(eta, ITERS = 100, X = X, y= y):\n",
    "    w = np.random.rand(F).reshape(F,1)\n",
    "    plt2 = plt.ylabel(\"Accuracy\")\n",
    "    plt2 = plt.xlabel(\"Iterations\")\n",
    "    plt2 = plt.title(\"ETA = \" + str(eta))\n",
    "\n",
    "\n",
    "    for i in range(ITERS):\n",
    "\n",
    "        old_loss = loss(weights=w, features=X, labels=y)\n",
    "\n",
    "        ## implement the gradient descent step here\n",
    "        w += - ETA * grad(w, X, y)\n",
    "\n",
    "        new_loss = loss(weights=w, features=X, labels=y)\n",
    "        acc = accuracy(X= X, w= w, y=y)\n",
    "        plt2 = plt.scatter(i, acc)\n",
    "\n",
    "        ## the new_loss should be smaller than the old_loss, if you used eta = .0001\n",
    "GD(0.0001)"
   ]
  },
  {
   "cell_type": "code",
   "execution_count": 61,
   "metadata": {},
   "outputs": [
    {
     "data": {
      "image/png": "[encoded data removed]",
      "text/plain": [
       "<Figure size 432x288 with 1 Axes>"
      ]
     },
     "metadata": {
      "needs_background": "light"
     },
     "output_type": "display_data"
    }
   ],
   "source": [
    "GD(0.000001)"
   ]
  },
  {
   "cell_type": "code",
   "execution_count": 62,
   "metadata": {},
   "outputs": [
    {
     "data": {
      "image/png": "[encoded data removed]",
      "text/plain": [
       "<Figure size 432x288 with 1 Axes>"
      ]
     },
     "metadata": {
      "needs_background": "light"
     },
     "output_type": "display_data"
    }
   ],
   "source": [
    "GD(0.01)"
   ]
  },
  {
   "cell_type": "code",
   "execution_count": 54,
   "metadata": {},
   "outputs": [
    {
     "data": {
      "image/png": "[encoded data removed]",
      "text/plain": [
       "<Figure size 432x288 with 1 Axes>"
      ]
     },
     "metadata": {
      "needs_background": "light"
     },
     "output_type": "display_data"
    }
   ],
   "source": [
    "GD(1)"
   ]
  },
  {
   "cell_type": "code",
   "execution_count": null,
   "metadata": {},
   "outputs": [],
   "source": []
  }
 ],
 "metadata": {
  "kernelspec": {
   "display_name": "Python 3",
   "language": "python",
   "name": "python3"
  },
  "language_info": {
   "codemirror_mode": {
    "name": "ipython",
    "version": 3
   },
   "file_extension": ".py",
   "mimetype": "text/x-python",
   "name": "python",
   "nbconvert_exporter": "python",
   "pygments_lexer": "ipython3",
   "version": "3.8.3"
  }
 },
 "nbformat": 4,
 "nbformat_minor": 4
}
