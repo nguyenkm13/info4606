{
 "cells": [
  {
   "cell_type": "markdown",
   "metadata": {},
   "source": [
    "### Generative story \n",
    "\n",
    "- Generative models have some theory about how data observed in the world was generated. \n",
    "- We have been looking at one important generative model, naive Bayes\n",
    "- Let's look at how naive Bayes models data observed in the world\n",
    "- The model here is know as \"Gaussian naive Bayes\" because we assume the features are normally distributed (i.e. with Gaussians)"
   ]
  },
  {
   "cell_type": "code",
   "execution_count": 11,
   "metadata": {},
   "outputs": [
    {
     "data": {
      "text/html": [
       "<div>\n",
       "<style scoped>\n",
       "    .dataframe tbody tr th:only-of-type {\n",
       "        vertical-align: middle;\n",
       "    }\n",
       "\n",
       "    .dataframe tbody tr th {\n",
       "        vertical-align: top;\n",
       "    }\n",
       "\n",
       "    .dataframe thead th {\n",
       "        text-align: right;\n",
       "    }\n",
       "</style>\n",
       "<table border=\"1\" class=\"dataframe\">\n",
       "  <thead>\n",
       "    <tr style=\"text-align: right;\">\n",
       "      <th></th>\n",
       "      <th>label</th>\n",
       "      <th>height</th>\n",
       "      <th>weight</th>\n",
       "    </tr>\n",
       "  </thead>\n",
       "  <tbody>\n",
       "    <tr>\n",
       "      <th>0</th>\n",
       "      <td>cat</td>\n",
       "      <td>3.462839</td>\n",
       "      <td>12.438151</td>\n",
       "    </tr>\n",
       "    <tr>\n",
       "      <th>1</th>\n",
       "      <td>dog</td>\n",
       "      <td>13.609539</td>\n",
       "      <td>73.591362</td>\n",
       "    </tr>\n",
       "    <tr>\n",
       "      <th>2</th>\n",
       "      <td>dog</td>\n",
       "      <td>29.003833</td>\n",
       "      <td>55.601678</td>\n",
       "    </tr>\n",
       "    <tr>\n",
       "      <th>3</th>\n",
       "      <td>dog</td>\n",
       "      <td>31.598240</td>\n",
       "      <td>51.817536</td>\n",
       "    </tr>\n",
       "    <tr>\n",
       "      <th>4</th>\n",
       "      <td>cat</td>\n",
       "      <td>4.230336</td>\n",
       "      <td>12.449834</td>\n",
       "    </tr>\n",
       "    <tr>\n",
       "      <th>...</th>\n",
       "      <td>...</td>\n",
       "      <td>...</td>\n",
       "      <td>...</td>\n",
       "    </tr>\n",
       "    <tr>\n",
       "      <th>95</th>\n",
       "      <td>cat</td>\n",
       "      <td>10.010022</td>\n",
       "      <td>9.576994</td>\n",
       "    </tr>\n",
       "    <tr>\n",
       "      <th>96</th>\n",
       "      <td>cat</td>\n",
       "      <td>4.353434</td>\n",
       "      <td>10.708849</td>\n",
       "    </tr>\n",
       "    <tr>\n",
       "      <th>97</th>\n",
       "      <td>dog</td>\n",
       "      <td>16.467993</td>\n",
       "      <td>36.895276</td>\n",
       "    </tr>\n",
       "    <tr>\n",
       "      <th>98</th>\n",
       "      <td>cat</td>\n",
       "      <td>3.965142</td>\n",
       "      <td>7.431051</td>\n",
       "    </tr>\n",
       "    <tr>\n",
       "      <th>99</th>\n",
       "      <td>cat</td>\n",
       "      <td>5.825581</td>\n",
       "      <td>8.914883</td>\n",
       "    </tr>\n",
       "  </tbody>\n",
       "</table>\n",
       "<p>100 rows × 3 columns</p>\n",
       "</div>"
      ],
      "text/plain": [
       "   label     height     weight\n",
       "0    cat   3.462839  12.438151\n",
       "1    dog  13.609539  73.591362\n",
       "2    dog  29.003833  55.601678\n",
       "3    dog  31.598240  51.817536\n",
       "4    cat   4.230336  12.449834\n",
       "..   ...        ...        ...\n",
       "95   cat  10.010022   9.576994\n",
       "96   cat   4.353434  10.708849\n",
       "97   dog  16.467993  36.895276\n",
       "98   cat   3.965142   7.431051\n",
       "99   cat   5.825581   8.914883\n",
       "\n",
       "[100 rows x 3 columns]"
      ]
     },
     "execution_count": 11,
     "metadata": {},
     "output_type": "execute_result"
    }
   ],
   "source": [
    "import random\n",
    "import numpy as np\n",
    "import pandas as pd\n",
    "\n",
    "\n",
    "# generative models can generate data. Let's generate one point\n",
    "def generatePoint(p, mu11, mu12, mu21, mu22, dogSD, catSD):\n",
    "    '''\n",
    "    Generate one point with two Gaussian features, conditioned on a class\n",
    "\n",
    "    p = probability of class 1\n",
    "    mu11 = Mean of feature 1, class 1\n",
    "    mu12 = Mean of feature 1, class 2\n",
    "    mu21 = Mean of feature 2, class 1\n",
    "    mu22 = Mean of feature 2, class 2\n",
    "    '''\n",
    "    SD = 1 # assume standard deviation of 1\n",
    "    label = None\n",
    "    feature1 = None\n",
    "    if (random.random() < p):\n",
    "        label = \"cat\"\n",
    "        height = np.random.normal(mu11, catSD, size=1)[0]\n",
    "        weight = np.random.normal(mu12, catSD, size=1)[0]\n",
    "    else:\n",
    "        label = \"dog\"\n",
    "        height = np.random.normal(mu21, dogSD, size=1)[0]\n",
    "        weight = np.random.normal(mu22, dogSD, size=1)[0]\n",
    "    return {\"label\": label, \"height\": height, \"weight\": weight}\n",
    "    \n",
    "\n",
    "# height in inches, weight in pounds\n",
    "theta = {\"p(Y=cat)\": .7, \"dog_mu_height\": 20, \"dog_mu_weight\": 50, \n",
    "         \"dogSD\": 10, \"catSD\": 2, \"cat_mu_height\": 6, \"cat_mu_weight\": 9}\n",
    "\n",
    "points = []\n",
    "for i in range(100):\n",
    "\n",
    "    p = generatePoint(p=theta[\"p(Y=cat)\"], mu11=theta[\"cat_mu_height\"], dogSD=theta[\"dogSD\"], catSD=theta[\"catSD\"],\n",
    "                      mu12=theta[\"cat_mu_weight\"], mu21=theta[\"dog_mu_height\"], mu22=theta[\"dog_mu_weight\"])\n",
    "    \n",
    "    points.append(p)\n",
    "\n",
    "df = pd.DataFrame(points)\n",
    "\n",
    "df"
   ]
  },
  {
   "cell_type": "markdown",
   "metadata": {},
   "source": [
    "### Question \n",
    "\n",
    "#### What is happening in the method \"generatePoint\" ?\n",
    "\n",
    "It generates the features from a Normal distribution conditioned on a label.\n",
    "\n",
    "\n",
    "#### What happens if you vary p(Y=cat)?\n",
    "\n",
    "It increses the probability that a given point is labeled cat in the generated data."
   ]
  },
  {
   "cell_type": "code",
   "execution_count": 12,
   "metadata": {},
   "outputs": [
    {
     "data": {
      "text/plain": [
       "<matplotlib.axes._subplots.AxesSubplot at 0x7fad3b27d190>"
      ]
     },
     "execution_count": 12,
     "metadata": {},
     "output_type": "execute_result"
    },
    {
     "data": {
      "image/png": "[encoded data removed]",
      "text/plain": [
       "<Figure size 432x288 with 1 Axes>"
      ]
     },
     "metadata": {
      "needs_background": "light"
     },
     "output_type": "display_data"
    }
   ],
   "source": [
    "df[\"weight\"].plot.kde(title=\"Overall weight\")"
   ]
  },
  {
   "cell_type": "code",
   "execution_count": 77,
   "metadata": {},
   "outputs": [
    {
     "data": {
      "text/plain": [
       "<AxesSubplot:title={'center':'Overall height'}, ylabel='Density'>"
      ]
     },
     "execution_count": 77,
     "metadata": {},
     "output_type": "execute_result"
    },
    {
     "data": {
      "image/png": "[encoded data removed]",
      "text/plain": [
       "<Figure size 432x288 with 1 Axes>"
      ]
     },
     "metadata": {
      "needs_background": "light"
     },
     "output_type": "display_data"
    }
   ],
   "source": [
    "df[\"weight\"].plot.kde(title=\"Overall height\")"
   ]
  },
  {
   "cell_type": "code",
   "execution_count": 93,
   "metadata": {},
   "outputs": [
    {
     "data": {
      "text/plain": [
       "[Text(0.5, 0, 'Inches')]"
      ]
     },
     "execution_count": 93,
     "metadata": {},
     "output_type": "execute_result"
    },
    {
     "data": {
      "image/png": "[encoded data removed]",
      "text/plain": [
       "<Figure size 432x288 with 1 Axes>"
      ]
     },
     "metadata": {
      "needs_background": "light"
     },
     "output_type": "display_data"
    }
   ],
   "source": [
    "fig, ax = df.groupby(\"label\")[\"height\"].plot.kde(legend=True)\n",
    "ax.set_title('Height by label')\n",
    "ax.set(xlabel='Inches')"
   ]
  },
  {
   "cell_type": "code",
   "execution_count": 79,
   "metadata": {},
   "outputs": [
    {
     "data": {
      "text/plain": [
       "[Text(0.5, 0, 'Pounds')]"
      ]
     },
     "execution_count": 79,
     "metadata": {},
     "output_type": "execute_result"
    },
    {
     "data": {
      "image/png": "[encoded data removed]",
      "text/plain": [
       "<Figure size 432x288 with 1 Axes>"
      ]
     },
     "metadata": {
      "needs_background": "light"
     },
     "output_type": "display_data"
    }
   ],
   "source": [
    "fig, ax = df.groupby(\"label\")[\"weight\"].plot.kde(legend=True)\n",
    "ax.set_title('Weight by label')\n",
    "ax.set(xlabel='Pounds')"
   ]
  },
  {
   "cell_type": "markdown",
   "metadata": {},
   "source": [
    "### Question\n",
    "\n",
    "#### What do you observe in the plots called \"Overall weight\" and \"Overall height\"? Why do you think the plots have this shape? \n",
    "\n",
    "[Type your answer here]\n",
    "\n",
    "#### What happens to these plots if you vary the parameters? \n",
    "\n",
    "[Type your answer here]"
   ]
  },
  {
   "cell_type": "markdown",
   "metadata": {},
   "source": [
    "### Question\n",
    "\n",
    "#### What do you observe in the plots called \"Height by animal\" and \"Weight by animal\"? \n",
    "#### Why do you think the plots have this shape? \n",
    "\n",
    "[Type your answer here]\n",
    "\n",
    "#### What happens to these plots if you vary the parameters? \n",
    "\n",
    "[Type your answer here]"
   ]
  },
  {
   "cell_type": "markdown",
   "metadata": {},
   "source": [
    "### Likelihood\n",
    "\n",
    "Naive Bayes assumes that all features are generated independently. That means that the probability of drawing an observation like ``{animal=dog, weight=13, height=30}`` is `p(animal=dog)*p(weight=13|dog)*p(weight=30|dog)`. "
   ]
  },
  {
   "cell_type": "code",
   "execution_count": 99,
   "metadata": {},
   "outputs": [],
   "source": [
    "from scipy.stats import norm\n",
    "\n",
    "def BernoulliProbOnePoint(p, x_i):\n",
    "    '''\n",
    "    return the probability of x_i, according to the Bernoulli distribution with parameter p\n",
    "    '''\n",
    "    if x_i == 1:\n",
    "        return p\n",
    "    else:\n",
    "        return 1 - p \n",
    "    \n",
    "def GaussianProbOneFeature(mu, sigma, observation):\n",
    "    return norm(loc=mu, scale=sigma).pdf(observation)"
   ]
  },
  {
   "cell_type": "code",
   "execution_count": 102,
   "metadata": {},
   "outputs": [
    {
     "data": {
      "text/plain": [
       "-16306.76280984424"
      ]
     },
     "execution_count": 102,
     "metadata": {},
     "output_type": "execute_result"
    }
   ],
   "source": [
    "def log_probability_of_one_point(point, theta):\n",
    "    p_point = BernoulliProbOnePoint(p=theta[\"p(Y=dog)\"], x_i=point[\"label\"] == \"dog\")\n",
    "\n",
    "    height = point[\"height\"]\n",
    "    weight = point[\"weight\"]\n",
    "\n",
    "    if point[\"label\"] == \"dog\":\n",
    "        pheight = GaussianProbOneFeature(mu=theta[\"dog_mu_height\"], sigma=theta[\"dogSD\"], observation=height)\n",
    "        pweight = GaussianProbOneFeature(mu=theta[\"dog_mu_weight\"], sigma=theta[\"dogSD\"], observation=weight)\n",
    "    else:\n",
    "        pheight = GaussianProbOneFeature(mu=theta[\"cat_mu_height\"], sigma=theta[\"catSD\"], observation=height)\n",
    "        pweight = GaussianProbOneFeature(mu=theta[\"cat_mu_weight\"], sigma=theta[\"catSD\"], observation=weight)\n",
    "        \n",
    "    return np.log(p_point) + np.log(pheight) + np.log(pweight)\n",
    "\n",
    "def log_likelihood(points, theta):\n",
    "    sum_ = 0\n",
    "    for point in points:\n",
    "        sum_ += log_probability_of_one_point(point, theta=theta)\n",
    "    return sum_\n",
    "\n",
    "ll = log_likelihood(points, theta)"
   ]
  },
  {
   "cell_type": "markdown",
   "metadata": {},
   "source": [
    "### Question \n",
    "\n",
    "#### What is happening in \"log_likelihood\"  function?\n",
    "\n",
    "[Type your answer here]"
   ]
  },
  {
   "cell_type": "markdown",
   "metadata": {},
   "source": [
    "### Classification\n",
    "\n",
    "#### In naive Bayes, we apply Bayes rule to classify points based on which class is most probable \n",
    "\n",
    "$p(Y|X) \\propto p(X|Y)p(Y)$\n",
    "\n",
    "Use this expression and the function `log_probability_of_one_point` to classify a random point. Does the classification make sense? Some starter code is provided below"
   ]
  },
  {
   "cell_type": "code",
   "execution_count": 107,
   "metadata": {},
   "outputs": [
    {
     "name": "stdout",
     "output_type": "stream",
     "text": [
      "real_label = dog\n",
      "-20.51718716176262 cat\n",
      "-17.75473538187844 dog\n"
     ]
    }
   ],
   "source": [
    "random_point = generatePoint(p=theta[\"p(Y=dog)\"], mu11=theta[\"dog_mu_height\"], dogSD=theta[\"dogSD\"], catSD=theta[\"catSD\"],\n",
    "                             mu12=theta[\"dog_mu_weight\"], mu21=theta[\"cat_mu_height\"], mu22=theta[\"cat_mu_weight\"])\n",
    "\n",
    "real_label = random_point[\"label\"]\n",
    "\n",
    "print(\"real_label = {}\".format(real_label))\n",
    "\n",
    "for possible_label in [\"cat\", \"dog\"]:\n",
    "    random_point[\"label\"] = possible_label"
   ]
  },
  {
   "cell_type": "markdown",
   "metadata": {},
   "source": [
    "### Learning\n",
    "\n",
    "In reality, you would fit Gaussian naive Bayes using maximum likelihood estimation (MLE). There are closed-form expressions for the MLE of each parameter. You can look them up. But we can try to optimize with random seach. You would not want to do this in practice, but it's very helpful for understanding what is going on. Although random search is inefficient, it is easy to implement and requires no math! Try generating parameters at random in a variable called `theta_guess` and then computing the likelihood. It might be helpful to only vary one parameter at a time. What do you observe about the values of `theta_guess` and `theta`?"
   ]
  }
 ],
 "metadata": {
  "kernelspec": {
   "display_name": "Python 3",
   "language": "python",
   "name": "python3"
  },
  "language_info": {
   "codemirror_mode": {
    "name": "ipython",
    "version": 3
   },
   "file_extension": ".py",
   "mimetype": "text/x-python",
   "name": "python",
   "nbconvert_exporter": "python",
   "pygments_lexer": "ipython3",
   "version": "3.8.3"
  }
 },
 "nbformat": 4,
 "nbformat_minor": 4
}
