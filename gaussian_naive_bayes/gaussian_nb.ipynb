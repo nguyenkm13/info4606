{
 "cells": [
  {
   "cell_type": "markdown",
   "metadata": {},
   "source": [
    "### Generative story \n",
    "\n",
    "- Generative models have some theory about how data observed in the world was generated. \n",
    "- We have been looking at one important generative model, naive Bayes\n",
    "- Let's look at how naive Bayes models data observed in the world\n",
    "- The model here is know as \"Gaussian naive Bayes\" because we assume the features are normally distributed (i.e. with Gaussians)"
   ]
  },
  {
   "cell_type": "code",
   "execution_count": 15,
   "metadata": {},
   "outputs": [
    {
     "data": {
      "text/html": [
       "<div>\n",
       "<style scoped>\n",
       "    .dataframe tbody tr th:only-of-type {\n",
       "        vertical-align: middle;\n",
       "    }\n",
       "\n",
       "    .dataframe tbody tr th {\n",
       "        vertical-align: top;\n",
       "    }\n",
       "\n",
       "    .dataframe thead th {\n",
       "        text-align: right;\n",
       "    }\n",
       "</style>\n",
       "<table border=\"1\" class=\"dataframe\">\n",
       "  <thead>\n",
       "    <tr style=\"text-align: right;\">\n",
       "      <th></th>\n",
       "      <th>label</th>\n",
       "      <th>height</th>\n",
       "      <th>weight</th>\n",
       "    </tr>\n",
       "  </thead>\n",
       "  <tbody>\n",
       "    <tr>\n",
       "      <th>0</th>\n",
       "      <td>cat</td>\n",
       "      <td>6.375636</td>\n",
       "      <td>10.497257</td>\n",
       "    </tr>\n",
       "    <tr>\n",
       "      <th>1</th>\n",
       "      <td>cat</td>\n",
       "      <td>1.759638</td>\n",
       "      <td>13.320037</td>\n",
       "    </tr>\n",
       "    <tr>\n",
       "      <th>2</th>\n",
       "      <td>cat</td>\n",
       "      <td>8.259552</td>\n",
       "      <td>10.717193</td>\n",
       "    </tr>\n",
       "    <tr>\n",
       "      <th>3</th>\n",
       "      <td>dog</td>\n",
       "      <td>17.644864</td>\n",
       "      <td>40.487721</td>\n",
       "    </tr>\n",
       "    <tr>\n",
       "      <th>4</th>\n",
       "      <td>cat</td>\n",
       "      <td>2.328081</td>\n",
       "      <td>10.072252</td>\n",
       "    </tr>\n",
       "    <tr>\n",
       "      <th>...</th>\n",
       "      <td>...</td>\n",
       "      <td>...</td>\n",
       "      <td>...</td>\n",
       "    </tr>\n",
       "    <tr>\n",
       "      <th>95</th>\n",
       "      <td>cat</td>\n",
       "      <td>5.937577</td>\n",
       "      <td>10.493530</td>\n",
       "    </tr>\n",
       "    <tr>\n",
       "      <th>96</th>\n",
       "      <td>dog</td>\n",
       "      <td>7.897894</td>\n",
       "      <td>52.422734</td>\n",
       "    </tr>\n",
       "    <tr>\n",
       "      <th>97</th>\n",
       "      <td>dog</td>\n",
       "      <td>29.257206</td>\n",
       "      <td>50.535273</td>\n",
       "    </tr>\n",
       "    <tr>\n",
       "      <th>98</th>\n",
       "      <td>cat</td>\n",
       "      <td>3.501942</td>\n",
       "      <td>7.339525</td>\n",
       "    </tr>\n",
       "    <tr>\n",
       "      <th>99</th>\n",
       "      <td>dog</td>\n",
       "      <td>17.212922</td>\n",
       "      <td>44.684520</td>\n",
       "    </tr>\n",
       "  </tbody>\n",
       "</table>\n",
       "<p>100 rows × 3 columns</p>\n",
       "</div>"
      ],
      "text/plain": [
       "   label     height     weight\n",
       "0    cat   6.375636  10.497257\n",
       "1    cat   1.759638  13.320037\n",
       "2    cat   8.259552  10.717193\n",
       "3    dog  17.644864  40.487721\n",
       "4    cat   2.328081  10.072252\n",
       "..   ...        ...        ...\n",
       "95   cat   5.937577  10.493530\n",
       "96   dog   7.897894  52.422734\n",
       "97   dog  29.257206  50.535273\n",
       "98   cat   3.501942   7.339525\n",
       "99   dog  17.212922  44.684520\n",
       "\n",
       "[100 rows x 3 columns]"
      ]
     },
     "execution_count": 15,
     "metadata": {},
     "output_type": "execute_result"
    }
   ],
   "source": [
    "import random\n",
    "import numpy as np\n",
    "import pandas as pd\n",
    "\n",
    "\n",
    "# generative models can generate data. Let's generate one point\n",
    "def generatePoint(p, mu11, mu12, mu21, mu22, dogSD, catSD):\n",
    "    '''\n",
    "    Generate one point with two Gaussian features, conditioned on a class\n",
    "\n",
    "    p = probability of class 1\n",
    "    mu11 = Mean of feature 1, class 1\n",
    "    mu12 = Mean of feature 1, class 2\n",
    "    mu21 = Mean of feature 2, class 1\n",
    "    mu22 = Mean of feature 2, class 2\n",
    "    '''\n",
    "    SD = 1 # assume standard deviation of 1\n",
    "    label = None\n",
    "    feature1 = None\n",
    "    if (random.random() < p):\n",
    "        label = \"cat\"\n",
    "        height = np.random.normal(mu11, catSD, size=1)[0]\n",
    "        weight = np.random.normal(mu12, catSD, size=1)[0]\n",
    "    else:\n",
    "        label = \"dog\"\n",
    "        height = np.random.normal(mu21, dogSD, size=1)[0]\n",
    "        weight = np.random.normal(mu22, dogSD, size=1)[0]\n",
    "    return {\"label\": label, \"height\": height, \"weight\": weight}\n",
    "    \n",
    "\n",
    "# height in inches, weight in pounds\n",
    "theta = {\"p(Y=cat)\": .6, \"dog_mu_height\": 20, \"dog_mu_weight\": 50, \n",
    "         \"dogSD\": 10, \"catSD\": 2, \"cat_mu_height\": 6, \"cat_mu_weight\": 9}\n",
    "\n",
    "points = []\n",
    "for i in range(100):\n",
    "\n",
    "    p = generatePoint(p=theta[\"p(Y=cat)\"], mu11=theta[\"cat_mu_height\"], dogSD=theta[\"dogSD\"], catSD=theta[\"catSD\"],\n",
    "                      mu12=theta[\"cat_mu_weight\"], mu21=theta[\"dog_mu_height\"], mu22=theta[\"dog_mu_weight\"])\n",
    "    \n",
    "    points.append(p)\n",
    "\n",
    "df = pd.DataFrame(points)\n",
    "\n",
    "df"
   ]
  },
  {
   "cell_type": "markdown",
   "metadata": {},
   "source": [
    "### Question \n",
    "\n",
    "#### What is happening in the method \"generatePoint\" ?\n",
    "\n",
    "It generates the features from a Normal distribution conditioned on a label.\n",
    "\n",
    "\n",
    "#### What happens if you vary p(Y=cat)?\n",
    "\n",
    "It increses the probability that a given point is labeled cat in the generated data."
   ]
  },
  {
   "cell_type": "code",
   "execution_count": 16,
   "metadata": {},
   "outputs": [
    {
     "data": {
      "text/plain": [
       "<matplotlib.axes._subplots.AxesSubplot at 0x7fad3c02f700>"
      ]
     },
     "execution_count": 16,
     "metadata": {},
     "output_type": "execute_result"
    },
    {
     "data": {
      "image/png": "[encoded data removed]",
      "text/plain": [
       "<Figure size 432x288 with 1 Axes>"
      ]
     },
     "metadata": {
      "needs_background": "light"
     },
     "output_type": "display_data"
    }
   ],
   "source": [
    "df[\"weight\"].plot.kde(title=\"Overall weight\")"
   ]
  },
  {
   "cell_type": "code",
   "execution_count": 22,
   "metadata": {},
   "outputs": [
    {
     "data": {
      "text/plain": [
       "<matplotlib.axes._subplots.AxesSubplot at 0x7fad3c56df10>"
      ]
     },
     "execution_count": 22,
     "metadata": {},
     "output_type": "execute_result"
    },
    {
     "data": {
      "image/png": "[encoded data removed]",
      "text/plain": [
       "<Figure size 432x288 with 1 Axes>"
      ]
     },
     "metadata": {
      "needs_background": "light"
     },
     "output_type": "display_data"
    }
   ],
   "source": [
    "df[\"weight\"].plot.kde(title=\"Overall height\")"
   ]
  },
  {
   "cell_type": "code",
   "execution_count": 21,
   "metadata": {},
   "outputs": [
    {
     "data": {
      "text/plain": [
       "[Text(0.5, 0, 'Inches')]"
      ]
     },
     "execution_count": 21,
     "metadata": {},
     "output_type": "execute_result"
    },
    {
     "data": {
      "image/png": "[encoded data removed]",
      "text/plain": [
       "<Figure size 432x288 with 1 Axes>"
      ]
     },
     "metadata": {
      "needs_background": "light"
     },
     "output_type": "display_data"
    }
   ],
   "source": [
    "fig, ax = df.groupby(\"label\")[\"height\"].plot.kde(legend=True)\n",
    "ax.set_title('Height by label') \n",
    "ax.set(xlabel='Inches')"
   ]
  },
  {
   "cell_type": "code",
   "execution_count": 20,
   "metadata": {},
   "outputs": [
    {
     "data": {
      "text/plain": [
       "[Text(0.5, 0, 'Pounds')]"
      ]
     },
     "execution_count": 20,
     "metadata": {},
     "output_type": "execute_result"
    },
    {
     "data": {
      "image/png": "[encoded data removed]",
      "text/plain": [
       "<Figure size 432x288 with 1 Axes>"
      ]
     },
     "metadata": {
      "needs_background": "light"
     },
     "output_type": "display_data"
    }
   ],
   "source": [
    "fig, ax = df.groupby(\"label\")[\"weight\"].plot.kde(legend=True)\n",
    "ax.set_title('Weight by label')\n",
    "ax.set(xlabel='Pounds')"
   ]
  },
  {
   "cell_type": "markdown",
   "metadata": {},
   "source": [
    "### Question\n",
    "\n",
    "#### What do you observe in the plots called \"Overall weight\" and \"Overall height\"? Why do you think the plots have this shape? \n",
    "\n",
    "They are bimodal beacuse the data is drawn from two different distributions associated with 'cat' and 'dog'\n",
    "\n",
    "#### What happens to these plots if you vary the parameters? \n",
    "\n",
    "They change in shape based on the mean and standard deviation."
   ]
  },
  {
   "cell_type": "markdown",
   "metadata": {},
   "source": [
    "### Question\n",
    "\n",
    "#### What do you observe in the plots called \"Height by animal\" and \"Weight by animal\"? \n",
    "#### Why do you think the plots have this shape? \n",
    "\n",
    "[Type your answer here]\n",
    "\n",
    "#### What happens to these plots if you vary the parameters? \n",
    "\n",
    "[Type your answer here]"
   ]
  },
  {
   "cell_type": "markdown",
   "metadata": {},
   "source": [
    "### Likelihood\n",
    "\n",
    "Naive Bayes assumes that all features are generated independently. That means that the probability of drawing an observation like ``{animal=dog, weight=13, height=30}`` is `p(animal=dog)*p(weight=13|dog)*p(height=30|dog)`. "
   ]
  },
  {
   "cell_type": "code",
   "execution_count": 23,
   "metadata": {},
   "outputs": [],
   "source": [
    "from scipy.stats import norm\n",
    "\n",
    "def BernoulliProbOnePoint(p, x_i):\n",
    "    '''\n",
    "    return the probability of x_i, according to the Bernoulli distribution with parameter p\n",
    "    '''\n",
    "    if x_i == 1:\n",
    "        return p\n",
    "    else:\n",
    "        return 1 - p \n",
    "    \n",
    "def GaussianProbOneFeature(mu, sigma, observation):\n",
    "    return norm(loc=mu, scale=sigma).pdf(observation)"
   ]
  },
  {
   "cell_type": "code",
   "execution_count": 24,
   "metadata": {},
   "outputs": [],
   "source": [
    "def log_probability_of_one_point(point, theta):\n",
    "    p_point = BernoulliProbOnePoint(p=theta[\"p(Y=cat)\"], x_i=point[\"label\"] == \"cat\")\n",
    "\n",
    "    height = point[\"height\"]\n",
    "    weight = point[\"weight\"]\n",
    "\n",
    "    if point[\"label\"] == \"dog\":\n",
    "        pheight = GaussianProbOneFeature(mu=theta[\"dog_mu_height\"], sigma=theta[\"dogSD\"], observation=height)\n",
    "        pweight = GaussianProbOneFeature(mu=theta[\"dog_mu_weight\"], sigma=theta[\"dogSD\"], observation=weight)\n",
    "    else:\n",
    "        pheight = GaussianProbOneFeature(mu=theta[\"cat_mu_height\"], sigma=theta[\"catSD\"], observation=height)\n",
    "        pweight = GaussianProbOneFeature(mu=theta[\"cat_mu_weight\"], sigma=theta[\"catSD\"], observation=weight)\n",
    "        \n",
    "    return np.log(p_point) + np.log(pheight) + np.log(pweight)\n",
    "\n",
    "def log_likelihood(points, theta):\n",
    "    sum_ = 0\n",
    "    for point in points:\n",
    "        sum_ += log_probability_of_one_point(point, theta=theta)\n",
    "    return sum_\n",
    "\n",
    "ll = log_likelihood(points, theta)"
   ]
  },
  {
   "cell_type": "markdown",
   "metadata": {},
   "source": [
    "### Question \n",
    "\n",
    "#### What is happening in \"log_likelihood\"  function?\n",
    "\n",
    "[Type your answer here]"
   ]
  },
  {
   "cell_type": "markdown",
   "metadata": {},
   "source": [
    "### Classification\n",
    "\n",
    "#### In naive Bayes, we apply Bayes rule to classify points based on which class is most probable \n",
    "\n",
    "$p(Y|X) \\propto p(X|Y)p(Y)$\n",
    "\n",
    "Use this expression and the function `log_probability_of_one_point` to classify a random point. Does the classification make sense? Some starter code is provided below"
   ]
  },
  {
   "cell_type": "code",
   "execution_count": 27,
   "metadata": {},
   "outputs": [
    {
     "name": "stdout",
     "output_type": "stream",
     "text": [
      "-16.330840316130097\n",
      "real_label = dog\n"
     ]
    }
   ],
   "source": [
    "random_point = generatePoint(p=theta[\"p(Y=cat)\"], mu11=theta[\"cat_mu_height\"], dogSD=theta[\"dogSD\"], catSD=theta[\"catSD\"],\n",
    "                             mu12=theta[\"dog_mu_weight\"], mu21=theta[\"cat_mu_height\"], mu22=theta[\"cat_mu_weight\"])\n",
    "\n",
    "x = log_probability_of_one_point(random_point, theta)\n",
    "print(x)\n",
    "\n",
    "\n",
    "\n",
    "real_label = random_point[\"label\"]\n",
    "\n",
    "print(\"real_label = {}\".format(real_label))\n",
    "\n",
    "for possible_label in [\"cat\", \"dog\"]:\n",
    "    random_point[\"label\"] = possible_label"
   ]
  },
  {
   "cell_type": "markdown",
   "metadata": {},
   "source": [
    "### Learning\n",
    "\n",
    "In reality, you would fit Gaussian naive Bayes using maximum likelihood estimation (MLE). There are closed-form expressions for the MLE of each parameter. You can look them up. But we can try to optimize with random seach. You would not want to do this in practice, but it's very helpful for understanding what is going on. Although random search is inefficient, it is easy to implement and requires no math! Try generating parameters at random in a variable called `theta_guess` and then computing the likelihood. It might be helpful to only vary one parameter at a time. What do you observe about the values of `theta_guess` and `theta`?"
   ]
  }
 ],
 "metadata": {
  "kernelspec": {
   "display_name": "Python 3",
   "language": "python",
   "name": "python3"
  },
  "language_info": {
   "codemirror_mode": {
    "name": "ipython",
    "version": 3
   },
   "file_extension": ".py",
   "mimetype": "text/x-python",
   "name": "python",
   "nbconvert_exporter": "python",
   "pygments_lexer": "ipython3",
   "version": "3.8.3"
  }
 },
 "nbformat": 4,
 "nbformat_minor": 4
}
