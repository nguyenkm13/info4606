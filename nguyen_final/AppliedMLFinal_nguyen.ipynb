{
 "cells": [
  {
   "cell_type": "markdown",
   "metadata": {},
   "source": [
    "## Intro\n",
    "\n",
    "\n",
    "\n",
    "**This final assignment is similar to the midterm, but certain parts are different so please read the new instructions carefully to make sure you don't miss anything.**\n",
    "\n",
    "In this class, we have worked to understand both general principles of machine learning methods and specific details of particular machine learning techniques. For this project, you will apply what you have learned in this course to formulate and answer your own question, using ML.\n",
    "\n",
    "**Important:** Be sure to include code and answers in the correct cells of the notebook. Otherwise we might miss your answers.\n",
    "\n",
    "Please use this notebook to turn in your work. \n",
    "\n",
    "Points: 25\n",
    "\n",
    "You will be graded based on:\n",
    "1. __Technical completeness__. _(15 points)_ \n",
    "\n",
    "Did you meet the technical requirements for the project? For instance, did you describe hyperparameter tuning and include plots, where necessary.\n",
    "\n",
    "2. __Creativity and imagination__. _(5 points)_ \n",
    "\n",
    "Did you form an interesting, original and creative question, and explain why it is important to answer that question? \n",
    "\n",
    "3. __Presentation__. _(5 points)_ \n",
    "\n",
    "Did you do a good job presenting your results? Would your notebook make sense to a person who was not familiar with your project? You should take time to write clearly, simplify your code and explain what you are doing in your notebook. Make sure your plots are well-labeled and appropriately scaled. "
   ]
  },
  {
   "cell_type": "markdown",
   "metadata": {},
   "source": [
    "## Original question [instructions] \n",
    "\n",
    "_Unlike in the midterm project, for the final project you will be asked to formulate and answer an original question. An original question is a question that you come up with on your own, rather than a question that is formulated for you. For instance, downloading a dataset from Kaggle and predicting the labels provided in the dataset is not asking an original question because Kaggle contributors have already defined the task for you. As before, you should take time to explain why this question matters and how it fits with existing understanding of your topic._\n",
    "\n",
    "If you are stuck, here are some strategies for finding original questions:\n",
    "\n",
    "1. You might take an existing analysis and offer a new twist. For instance, you might start with a dataset used for [predicting the winners of NBA games](https://github.com/JakeKandell/NBA-Predict) and instead cluster the data to see if you can identify blowouts (when one a team wins by a lot). \n",
    "2. You might compare datasets in new ways. For instance, you might test if features that are good for predicting NBA games are also good for predicting NFL games, and then investigate why you might observe a difference.\n",
    "3. You might apply your own knowledge of a subject to ask a new question. For instance, if you know a lot about minor league baseball, this might help you ask interesting and original questions that others have not thought of before.\n",
    "4. Modify or expand existing work. You might start with a blog post or paper that shares data, and then extend or modify the existing study.\n",
    "5. Systematically analyze errors in an existing analysis. You might start with a blog post or paper that shares data, and then revisit and rexamine some of the questions with empirical tests using code to see if the author overlooked certain angles or drew unsubstantiated conclusions."
   ]
  },
  {
   "cell_type": "markdown",
   "metadata": {},
   "source": [
    "## Related work [required 5604, optional 4604 for 3 points extra credit] \n",
    "\n",
    "_One way to find an original question is to start by analyzing and considering related work. Using this cell, please summarize two research papers related to your question (one paragraph per paper). Be sure to link to the paper and list the title, authors and venue so that others can understand your work. For each paper, you should explain (1) what the authors found and (2) how their work informs your own question or approach._\n",
    "\n",
    "**Paper 1** \n",
    "\n",
    "**Paper 2** "
   ]
  },
  {
   "cell_type": "markdown",
   "metadata": {},
   "source": [
    "## Original question [answer] \n",
    "\n",
    "_Please write a clear and concise explanation of your original question_\n",
    "\n",
    "**This is a major part of the assignment. Please take time to carefully explain what is original about your question.**\n",
    "\n",
    "Can machine learning predict if an NBA team will make the playoffs? With analytics taking a larger role in basketball, I thought the application of machine learning techniques on NBA data would make for an interesting project. While machine learning projects exist that determine the probability a team wins against a certain opponent, this analysis is not very useful for regular season games as top teams move more and more toward load management to save star players for the playoffs by limiting their use in regular season games. With load management becoming more prevalent in the NBA, simple analysis of individual regular season games becomes less valuable. Instead, my project looks to classify potential playoff teams which then can be applied to existing NBA machine learning projects as a way to identify teams that may wish to save their stars for the playoffs. "
   ]
  },
  {
   "cell_type": "markdown",
   "metadata": {},
   "source": [
    "## Midterm project expansion \n",
    "\n",
    "_You can expand your midterm project for the final project, but your final and midterm must be substantially different. For instance, if you expand your midterm, you must ask a new question, try new models, use new data, perform new error analysis, etc. If you are expanding your midterm project, you must explain the differences between your midterm and final below. Err on the side of caution; make sure your two projects are substantially different._\n",
    "\n",
    "**If your final is not an expansion of your midterm, then you can skip this part.**\n",
    "\n",
    "N/A"
   ]
  },
  {
   "cell_type": "markdown",
   "metadata": {},
   "source": [
    "## Data (writing)\n",
    "\n",
    "_Using this cell, please write a short, clear paragraph explaining what data you will use to answer your question. You do not need to go gather custom datasets for this class, although you are welcome to do so. Your data gathering must allow you to ask an original question, but you are not required to construct a custom data set. If applicable, describe how you plan to split between the training and test sets._\n",
    "\n",
    "The data that I use in this project comes from ESPN which maintains records of NBA team stats each season. For simplicity, I have limited my analysis to the 2019 and 2020 NBA seasons. The dataset I have created includes the following per game variables: points, field goals made, field goals attempted, field goal percentage, 3-pointers made, 3-pointers attempted, 3-point percentage, free throws made, free throws attempted, free throw percentage, offensive rating, defensive rating, rebounds, assists, steals, blocks, turnovers, and personal fouls. Unfortunately, the data does not include a variable for if the associated team made the playoffs and I had to hardcode that data into a spreadsheet. I will perform a 70/30 split of the data with sklearn's train_test_split function. The function will randomly split 70% of the data into a test set and 30% of the data into a training set. "
   ]
  },
  {
   "cell_type": "code",
   "execution_count": 2,
   "metadata": {},
   "outputs": [],
   "source": [
    "## Code for data preprocessing \n",
    "\n",
    "# Include your code to load, clean and split data in this cell. You must complete this step in the project.\n",
    "\n",
    "import pandas as pd\n",
    "nba = pd.read_csv('nba.csv')\n",
    "\n",
    "y = nba[\"PLAYOFF\"]\n",
    "x = nba.drop([\"Team\",\"PLAYOFF\"], axis = 1)\n",
    "\n",
    "from sklearn.model_selection import train_test_split\n",
    "x_train, x_test, y_train, y_test = train_test_split(x, y, train_size = 0.7)"
   ]
  },
  {
   "cell_type": "markdown",
   "metadata": {},
   "source": [
    "## Model selection and tuning\n",
    "\n",
    "This section is similar to the midterm. \n",
    "\n",
    "_Using this cell, please write a short, clear paragraph explaining how you selected and tuned your model for the project. You must answer the following two questions in this cell (1) Why is your model an appropriate choice for your data? (2) What hyperparameters does your model have and how did you select them? (3) What features did you choose and why? You must engineer at least 1 feature_ \n",
    "\n",
    "Since the target variable, did the team make the playoffs, is a binary variable, I chose to implement a Logistic Regression since the logistic function returns probabilities that the target class is 1 (true) or 0 (false). Sklearn's documentation of the LogisticRegression function includes many hyper parameters, but I will only discuss the two that I deem important for this project, penalty and C. The penalty parameter determines which regularization function is used to penalize overfitting. C determines the strength of that penalty. Additionally, I will use PCA to reduce the dimension of the input features. Although the dataset is not large, I wanted to test if a model with reduced dimensions can still return high accuracy. "
   ]
  },
  {
   "cell_type": "code",
   "execution_count": 28,
   "metadata": {},
   "outputs": [
    {
     "name": "stdout",
     "output_type": "stream",
     "text": [
      "l1 :  0.7580645161290323\n",
      "l2 :  0.7580645161290323\n",
      "\n",
      "\n",
      "0.001 :  0.7580645161290323\n",
      "0.01 :  0.8064516129032258\n",
      "0.1 :  0.8870967741935484\n",
      "1 :  0.967741935483871\n",
      "10 :  0.967741935483871\n",
      "100 :  0.9838709677419355\n",
      "\n",
      "\n",
      "1 :  0.5161290322580645\n",
      "2 :  0.5967741935483871\n",
      "5 :  0.7741935483870968\n",
      "10 :  0.8870967741935484\n"
     ]
    }
   ],
   "source": [
    "## Code for model selection and tuning + feature engineering\n",
    "\n",
    "# Include any code to select and tune your model in this cell. You must complete this step in the project.\n",
    "\n",
    "from sklearn.linear_model import LogisticRegression\n",
    "from sklearn.decomposition import PCA\n",
    "from sklearn.metrics import accuracy_score\n",
    "\n",
    "c = [0.001, 0.01, 0.1, 1, 10, 100]\n",
    "dim = [1, 2, 5, 10]\n",
    "pen = [\"l1\", \"l2\"]\n",
    "\n",
    "c_acc = []\n",
    "dim_acc = []\n",
    "pen_acc = []\n",
    "\n",
    "# penalty tuning\n",
    "for p in pen:\n",
    "    logit = LogisticRegression(penalty = p, solver = \"saga\", max_iter = 10000)\n",
    "    logit.fit(x_train, y_train)\n",
    "    y_logit = logit.predict(x_train)\n",
    "    acc = accuracy_score(y_train, y_logit)\n",
    "    pen_acc.append(acc)\n",
    "    print(p, \": \", acc)\n",
    "\n",
    "# c tuning\n",
    "print(\"\\n\")\n",
    "for i in c:\n",
    "    logit = LogisticRegression(C = i, max_iter = 10000)\n",
    "    logit.fit(x_train, y_train)\n",
    "    y_logit = logit.predict(x_train)\n",
    "    acc = accuracy_score(y_train, y_logit)\n",
    "    c_acc.append(acc)\n",
    "    print(i, \": \", acc)\n",
    "\n",
    "# PCA dimensionality reduction\n",
    "print(\"\\n\")\n",
    "for d in dim:\n",
    "    pca = PCA(d)\n",
    "    x_proj = pca.fit_transform(x_train)\n",
    "    logit = LogisticRegression(max_iter = 10000)\n",
    "    logit.fit(x_proj, y_train)\n",
    "    y_logit = logit.predict(x_proj)\n",
    "    acc = accuracy_score(y_train, y_logit)\n",
    "    dim_acc.append(acc)\n",
    "    print(d, \": \", acc)\n"
   ]
  },
  {
   "cell_type": "code",
   "execution_count": 29,
   "metadata": {},
   "outputs": [
    {
     "data": {
      "text/plain": [
       "Text(0.5, 0, 'dimension')"
      ]
     },
     "execution_count": 29,
     "metadata": {},
     "output_type": "execute_result"
    },
    {
     "data": {
      "image/png": "[encoded data removed]",
      "text/plain": [
       "<Figure size 432x288 with 1 Axes>"
      ]
     },
     "metadata": {
      "needs_background": "light"
     },
     "output_type": "display_data"
    }
   ],
   "source": [
    "## Plot or table \n",
    "\n",
    "# Include a plot or table explaining how you selected and tuned your model. You must complete this step in the project.\n",
    "\n",
    "import matplotlib.pyplot as plt\n",
    "import numpy as np\n",
    "\n",
    "plt.scatter(dim, dim_acc)\n",
    "plt.plot(dim, dim_acc)\n",
    "plt.title(\"Performance of Logistic Regresssion based on PCA dimension\")\n",
    "plt.ylabel(\"accuracy\")\n",
    "plt.xlabel(\"dimension\")"
   ]
  },
  {
   "cell_type": "code",
   "execution_count": 30,
   "metadata": {
    "scrolled": true
   },
   "outputs": [
    {
     "data": {
      "text/plain": [
       "Text(0.5, 0, 'ln(C)')"
      ]
     },
     "execution_count": 30,
     "metadata": {},
     "output_type": "execute_result"
    },
    {
     "data": {
      "image/png": "[encoded data removed]",
      "text/plain": [
       "<Figure size 432x288 with 1 Axes>"
      ]
     },
     "metadata": {
      "needs_background": "light"
     },
     "output_type": "display_data"
    }
   ],
   "source": [
    "plt.scatter(np.log(c), c_acc)\n",
    "plt.plot(np.log(c), c_acc)\n",
    "plt.title(\"Performance of Logistic Regression based on C value\")\n",
    "plt.ylabel(\"accuracy\")\n",
    "plt.xlabel(\"ln(C)\")"
   ]
  },
  {
   "cell_type": "markdown",
   "metadata": {},
   "source": [
    "## Results\n",
    "\n",
    "This section is similar to the midterm. \n",
    "\n",
    "_Using this cell, please write a short, clear paragraph explaining your results. In this class, we have mostly focused on accuracy. It is OK to measure your results in another quantitative way (e.g. precision or likelihood). Whatever you pick, make sure you are clear on what you are doing, and make sure you explain why your measurement of success makes sense._\n",
    "\n",
    "The two metrics I used to evaluate the performance of my model are accuracy and cross-validation score. The table below reports these metrics. The model returned 75% accuracy when predicting if an NBA team made the playoffs in a season. Although this result is not as high as I would have liked, correctly predicting the 3/4 of the test data is still not a bad result for the limited team data provided. The leave-one-out cross validation score of the model was only 60.7%, slightly higher than randomly guessing if a team made the playoffs. "
   ]
  },
  {
   "cell_type": "code",
   "execution_count": 33,
   "metadata": {},
   "outputs": [],
   "source": [
    "## Code \n",
    "\n",
    "# Include code showing how you arrived at your results. You must complete this step in the project.\n",
    "from sklearn.model_selection import cross_val_score\n",
    "from sklearn.model_selection import LeaveOneOut\n",
    "\n",
    "pca = PCA(10)\n",
    "x_proj = pca.fit_transform(x_train)\n",
    "x_proj_test = pca.fit_transform(x_test)\n",
    "\n",
    "logit = LogisticRegression(penalty = \"l2\", C = 100, max_iter = 10000)\n",
    "\n",
    "logit.fit(x_proj, y_train)\n",
    "y_predict = logit.predict(x_proj_test)\n",
    "scores = cross_val_score(logit, x_proj_test, y_test, cv=LeaveOneOut())"
   ]
  },
  {
   "cell_type": "code",
   "execution_count": 34,
   "metadata": {},
   "outputs": [
    {
     "name": "stdout",
     "output_type": "stream",
     "text": [
      "                Model Performance                \n",
      "--------------------------------------------------\n",
      "Accuracy: 0.75\n",
      "Leave one out cross validation: 0.6071428571428571\n"
     ]
    }
   ],
   "source": [
    "## Plot or table \n",
    "\n",
    "# Include a plot or table explaining your results. You must complete this step in the project.\n",
    "print(\"                Model Performance                \")\n",
    "print(\"--------------------------------------------------\")\n",
    "print(\"Accuracy:\", accuracy_score(y_predict, y_test))\n",
    "print(\"Leave one out cross validation:\", scores.mean())"
   ]
  },
  {
   "cell_type": "markdown",
   "metadata": {},
   "source": [
    "## Error analysis\n",
    "\n",
    "Please note the added instructions below. Some students made mistakes on error analysis for the midterm.\n",
    "\n",
    "_Using this cell, please write a short, clear paragraph explaining what errors your model seems to be making, and offer a brief explanation based on your code below._ \n",
    "\n",
    "**To get full credit for error analysis, it is not sufficient to simply report the performance of your model. You must analyze your model's output and form theories about why the model might be failing. Ideally, you should also test those theories by writing code or looking at examples to understand what is going on. To analyze errors, you might make a confusion matrix, sample misclassified data or analyze learned weights. Try to be systematic in understanding errors.**\n",
    "\n",
    "It seems that my model frequently predicted that a playoff team would not qualify for the playoffs, making this mistake four times as can be seen in the following confusion matrix. Since the whole dataset only covered two seasons. Also, out of 12 non-playoff teams, the model incorrectly classified 3 of them. I suspect that since I only used basic per game stats, the model was not able to correctly classify playoff teams, with high accuracy. It is worth noting that 75% of non-playoff teams and 75% of playoff teams were correctly classified, indicating that the model performs about equally when determining if a team won't make the playoffs and if a team will make the playoffs. "
   ]
  },
  {
   "cell_type": "code",
   "execution_count": 35,
   "metadata": {},
   "outputs": [
    {
     "data": {
      "text/plain": [
       "Text(0.5, 15.0, 'predicted value')"
      ]
     },
     "execution_count": 35,
     "metadata": {},
     "output_type": "execute_result"
    },
    {
     "data": {
      "image/png": "[encoded data removed]",
      "text/plain": [
       "<Figure size 432x288 with 1 Axes>"
      ]
     },
     "metadata": {
      "needs_background": "light"
     },
     "output_type": "display_data"
    }
   ],
   "source": [
    "## Error analysis\n",
    "\n",
    "# Include code for error analysis here, to justify your conclusions. \n",
    "# You might make a confusion matrix, sample misclassified data, analyze learned weights, or use any other method \n",
    "# discussed in class, or which makes sense for your model\n",
    "\n",
    "from sklearn.metrics import confusion_matrix\n",
    "import seaborn as sns\n",
    "\n",
    "mat = confusion_matrix(y_test, y_predict)\n",
    "\n",
    "sns.heatmap(mat, annot = True, cbar = False)\n",
    "plt.ylabel(\"true value\")\n",
    "plt.xlabel(\"predicted value\")\n"
   ]
  },
  {
   "cell_type": "markdown",
   "metadata": {},
   "source": [
    "## Discussion\n",
    "\n",
    "**5604 students be sure to describe how your findings relate to conclusions from prior work**\n",
    "\n",
    "_Using this cell, please write a short, clear paragraph describing how your results answer or do not answer your question. What new questions arise from your work?_\n",
    "\n",
    "As I mentioned in the error analysis section, I chose to only use basic NBA team stats since advanced team stats were not readily availiable as downloadable datasets. Limiting my project to basic stats may have negatively affected the performance of my model. Additional work in this area should include advanced NBA team stats which includes valuable metrics such as pace, true shooting percentage, player impact estimate, and effective field goal percentage. While the model did not perform as well as I would have liked, I won't abandon machine learning as a method to predict playoff teams. I believe machine learning can accurately predict playoff teams when given the right data. I refuse to believe that the 75% accuracy of this model is merely coincidental."
   ]
  }
 ],
 "metadata": {
  "kernelspec": {
   "display_name": "Python 3",
   "language": "python",
   "name": "python3"
  },
  "language_info": {
   "codemirror_mode": {
    "name": "ipython",
    "version": 3
   },
   "file_extension": ".py",
   "mimetype": "text/x-python",
   "name": "python",
   "nbconvert_exporter": "python",
   "pygments_lexer": "ipython3",
   "version": "3.8.3"
  }
 },
 "nbformat": 4,
 "nbformat_minor": 4
}
