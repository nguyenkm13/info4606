{
 "cells": [
  {
   "cell_type": "markdown",
   "metadata": {},
   "source": [
    "### Bagging\n",
    "\n",
    "Hello 4604 and 5604. Welcome to week nine! Time to revisit our `diabetes.csv` dataset. Early in the semester, we used this dataset to learn about KNN. Now will see how to improve our predictions with bagging. \n",
    "\n",
    "As always, this notebook is to help you gain a better understanding of machine learning methods. You are not expected to complete it perfectly, just to pay attention, give it a shot, get your hands a little dirty, improve your understanding of the material and turn in your work as a pdf or html at the end of class for participation points. "
   ]
  },
  {
   "cell_type": "code",
   "execution_count": 1,
   "metadata": {},
   "outputs": [],
   "source": [
    "# import the needed libraries\n",
    "\n",
    "import numpy as np\n",
    "import pandas as pd\n",
    "import sklearn\n",
    "\n",
    "# configure matplotlib to show plots in the notebook itself\n",
    "%matplotlib inline "
   ]
  },
  {
   "cell_type": "markdown",
   "metadata": {},
   "source": [
    "### Data\n",
    "\n",
    "In this notebook, we will be using the [Pima Indians Diabetes Dataset](https://www.kaggle.com/uciml/pima-indians-diabetes-database). The data consists of patient records with a number of features, along with a binary label indicating if the patient has diabetes or does not have diabetes. Note that \"all patients here are females at least 21 years old of Pima Indian heritage.\" Note that the `Outcome` variable records if a patient does or does not have diabetes."
   ]
  },
  {
   "cell_type": "code",
   "execution_count": 2,
   "metadata": {},
   "outputs": [],
   "source": [
    "df = pd.read_csv('diabetes.csv') #Load the dataset\n",
    "\n",
    "# Let's go ahead and start with a two-dimensional dataset to build intuitions\n",
    "low_dim = df[['Glucose', 'BloodPressure', \"Outcome\"]]"
   ]
  },
  {
   "cell_type": "code",
   "execution_count": 3,
   "metadata": {},
   "outputs": [
    {
     "data": {
      "text/plain": [
       "<matplotlib.axes._subplots.AxesSubplot at 0x7fe79427cc70>"
      ]
     },
     "execution_count": 3,
     "metadata": {},
     "output_type": "execute_result"
    },
    {
     "data": {
      "image/png": "[encoded data removed]",
      "text/plain": [
       "<Figure size 432x288 with 2 Axes>"
      ]
     },
     "metadata": {
      "needs_background": "light"
     },
     "output_type": "display_data"
    }
   ],
   "source": [
    "from sklearn.neighbors import KNeighborsClassifier\n",
    "\n",
    "# Let's divide our dataset into training and test \n",
    "train = low_dim[0:700]\n",
    "test = low_dim[700:]\n",
    "\n",
    "test.plot.scatter(x='Glucose', y='BloodPressure', c=\"Outcome\", colormap='viridis', title=\"BloodPressure x Glucose\")"
   ]
  },
  {
   "cell_type": "markdown",
   "metadata": {},
   "source": [
    "### Step 1 \n",
    "\n",
    "Train a KNN classifier on the training set. Set `K`=2. Then test your classifier on the test set. How accurate is your classifier on the test set?"
   ]
  },
  {
   "cell_type": "code",
   "execution_count": 4,
   "metadata": {},
   "outputs": [
    {
     "data": {
      "text/plain": [
       "0.6470588235294118"
      ]
     },
     "execution_count": 4,
     "metadata": {},
     "output_type": "execute_result"
    }
   ],
   "source": [
    "from sklearn.neighbors import KNeighborsClassifier\n",
    "\n",
    "# Type your code here\n",
    "\n",
    "# Answer\n",
    "knn = KNeighborsClassifier(n_neighbors=2)\n",
    "knn.fit(X=train[['Glucose', 'BloodPressure']].to_numpy(), y=train[\"Outcome\"].to_numpy())\n",
    "regular_pred = knn.predict(X=test[['Glucose', 'BloodPressure']].to_numpy())\n",
    "np.mean(regular_pred == test[\"Outcome\"].to_numpy())"
   ]
  },
  {
   "cell_type": "markdown",
   "metadata": {},
   "source": [
    "### Step 2\n",
    "\n",
    "Now we are going to try implementing bagging. The basic procedure is \n",
    "\n",
    "1. Sample $N$ datapoints with replacement from the training set, where $N$ is the size of the training set.\n",
    "2. Train a classifier on the $N$ datapoints\n",
    "3. Make predictions for the test set\n",
    "4. Average your predictions to make an aggregated prediction"
   ]
  },
  {
   "cell_type": "code",
   "execution_count": 5,
   "metadata": {},
   "outputs": [],
   "source": [
    "def sample_with_replacement(training_set):\n",
    "    #https://pandas.pydata.org/pandas-docs/stable/reference/api/pandas.DataFrame.sample.html\n",
    "    return training_set.sample(n=len(training_set), replace=True)\n",
    "\n",
    "def predict(knn_clf, test_set):\n",
    "    return knn_clf.predict(test_set[['Glucose', 'BloodPressure']])"
   ]
  },
  {
   "cell_type": "code",
   "execution_count": 10,
   "metadata": {},
   "outputs": [],
   "source": [
    "all_predictions = []\n",
    "\n",
    "def bootstrap(k = 1):\n",
    "    for i in range(1000):\n",
    "        train_sampled = sample_with_replacement(training_set=train)\n",
    "\n",
    "        knn = KNeighborsClassifier(n_neighbors=k)\n",
    "\n",
    "        knn.fit(X=train_sampled[['Glucose', 'BloodPressure']].to_numpy(), y=train_sampled[\"Outcome\"].to_numpy())\n",
    "\n",
    "        preds = predict(knn, test)\n",
    "\n",
    "        all_predictions.append(preds)\n",
    "\n",
    "\n",
    "    all_preds_as_mx = np.stack(all_predictions)\n",
    "    bootstrap_pred = np.mean(all_preds_as_mx, axis = 0) > 0.5\n",
    "    return bootstrap_pred.astype(int)\n",
    "\n",
    "bootstrap_pred = bootstrap(k = 2)"
   ]
  },
  {
   "cell_type": "code",
   "execution_count": 11,
   "metadata": {},
   "outputs": [
    {
     "name": "stdout",
     "output_type": "stream",
     "text": [
      "Bootstrap:  0.6617647058823529\n",
      "Regular:  0.6470588235294118\n"
     ]
    }
   ],
   "source": [
    "# Evaluate your predictions. How accurate are bootstrap_pred?\n",
    "\n",
    "print(\"Bootstrap: \", np.mean(bootstrap_pred == test[\"Outcome\"]))\n",
    "\n",
    "print(\"Regular: \", np.mean(regular_pred == test[\"Outcome\"].to_numpy()))"
   ]
  },
  {
   "cell_type": "code",
   "execution_count": null,
   "metadata": {},
   "outputs": [
    {
     "name": "stdout",
     "output_type": "stream",
     "text": [
      "Bootstrap:  0.6764705882352942\n",
      "Regular:  0.6470588235294118\n",
      "Bootstrap:  0.6764705882352942\n",
      "Regular:  0.6470588235294118\n"
     ]
    }
   ],
   "source": [
    "for i in range(10):\n",
    "    result = bootstrap(k = i + 1)\n",
    "    print(\"Bootstrap: \", np.mean(result == test[\"Outcome\"]))\n",
    "    print(\"Regular: \", np.mean(regular_pred == test[\"Outcome\"].to_numpy()))"
   ]
  },
  {
   "cell_type": "markdown",
   "metadata": {},
   "source": [
    "### Observation\n",
    "\n",
    "What do you observe about the bootstrap error vs. the regular error\n",
    "- The bootstrap error is better than the regular error\n"
   ]
  },
  {
   "cell_type": "markdown",
   "metadata": {},
   "source": [
    "### Varying K\n",
    "\n",
    "What do you think will happen if you increase or decrease `K`? Will bagging lead to larger or smaller gains? Test your hypothesis by varying the `K` variable. Report your results in a table or with a plot. \n",
    "- I expect bagging to have higher gains when K is small and smaller gains when K is large"
   ]
  },
  {
   "cell_type": "markdown",
   "metadata": {},
   "source": [
    "### Soft prediction\n",
    "\n",
    "In machine learning you may sometimes hear the terms `soft` and `hard` prediction. A `hard` prediction is either value of 0 or 1. A soft prediction is a value between 0 and 1. During each iteration of bagging above your classifier makes a prediction about if a point is a 0 or 1. If you average these scores you can make a soft prediction about each instance in the data set. \n",
    "\n",
    "1. Add a new column to your test data frame, recording soft predictions "
   ]
  },
  {
   "cell_type": "code",
   "execution_count": null,
   "metadata": {},
   "outputs": [],
   "source": [
    "# Type your code here\n",
    "test.plot(x='Glucose', y = \"BloodPressure\")"
   ]
  },
  {
   "cell_type": "markdown",
   "metadata": {},
   "source": [
    "2. Make a plot using color to represent soft predictions"
   ]
  },
  {
   "cell_type": "code",
   "execution_count": null,
   "metadata": {},
   "outputs": [],
   "source": [
    "# Type your code here\n",
    "#Time ran out during class"
   ]
  },
  {
   "cell_type": "markdown",
   "metadata": {},
   "source": [
    "3. Looking at your plot, which points are more likely to be classified as 1 and which ones are more likely to be classified as zero. Do any of the predictions seem to make sense?\n",
    "\n",
    "Time ran out during class"
   ]
  },
  {
   "cell_type": "code",
   "execution_count": null,
   "metadata": {},
   "outputs": [],
   "source": []
  }
 ],
 "metadata": {
  "kernelspec": {
   "display_name": "Python 3",
   "language": "python",
   "name": "python3"
  },
  "language_info": {
   "codemirror_mode": {
    "name": "ipython",
    "version": 3
   },
   "file_extension": ".py",
   "mimetype": "text/x-python",
   "name": "python",
   "nbconvert_exporter": "python",
   "pygments_lexer": "ipython3",
   "version": "3.8.3"
  }
 },
 "nbformat": 4,
 "nbformat_minor": 2
}
