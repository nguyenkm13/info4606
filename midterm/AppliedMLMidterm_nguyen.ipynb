{
 "cells": [
  {
   "cell_type": "markdown",
   "metadata": {},
   "source": [
    "## Intro\n",
    "\n",
    "In this class, we have worked to understand both general principles of machine learning methods and specific details of particular machine learning techniques. For this project, you will apply what you have learned in this course to formulate and answer your own question, using ML. The midterm will be good practice for the final project, which will be similar.\n",
    "\n",
    "**Important:** Be sure to include code and answers in the correct cells of the notebook. Otherwise we might miss your answers.\n",
    "\n",
    "Please use this notebook to turn in your work. \n",
    "\n",
    "Points: 20\n",
    "\n",
    "You will be graded based on:\n",
    "1. __Technical completeness__. _(12 points)_ \n",
    "\n",
    "Did you meet the technical requirements for the project? For instance, did you describe hyperparameter tuning and include plots, where necessary.\n",
    "\n",
    "2. __Creativity and imagination__. _(3 points)_ \n",
    "\n",
    "Did you form an interesting and creative question, and explain why it is important to answer that question? \n",
    "\n",
    "3. __Presentation__. _(5 points)_ \n",
    "\n",
    "Did you do a good job presenting your results? Would your notebook make sense to a person who was not familiar with your project? You should take time to write clearly, simplify your code and explain what you are doing in your notebook. Make sure your plots are well-labeled and appropriately scaled. "
   ]
  },
  {
   "cell_type": "markdown",
   "metadata": {},
   "source": [
    "## Question \n",
    "\n",
    "_Using this cell, please write a short, clear paragraph explaining what question you plan to answer in this notebook. Your question can be narrow (e.g. can we predict a dog's height from its weight) or broad (e.g. what features are important or unimportant in predicting the price of a house). Briefly describe why your question is important and how you plan to answer. Be sure to ask a question you can actually answer using machine learning techniques!_\n",
    "\n",
    "Can machine learning correctly classify handwritten characters with high accuracy?\n"
   ]
  },
  {
   "cell_type": "markdown",
   "metadata": {},
   "source": [
    "# Data (writing)\n",
    "\n",
    "_Using this cell, please write a short, clear paragraph explaining what data you will use to answer your question. You do not need to go gather custom datasets for this class, although you are welcome to do so. Just downloading data from Kaggle is fine, although we encourage you to think a little harder and more creatively when you do the project. There are many, many places to find interesting datasets online related to many topics like music, politics, sports, transportation, etc. Data gathering is one way to make your project more creative, but you are not expected or encouraged to take on a major data gathering effort. If applicable, describe how you plan to split between the training and test sets._\n",
    "\n",
    "For this project I plan to use the digits dataset that is included in scikit-learn. This dataset includes 1,797 instances of 8x8 pixel images of handwritten numbers. Each instance contains 64 features where each feature represents the color intensity of a single pixel on a 0 to 16 scale. I plan to separate the data into training and test sets using a 70%-30% split, respectively. To separate the data, I will use the included train_test_split function inlcuded in scikit-learn. The train_test_split fucntion shuffles the dataset and randomly splits the set according to pre-defined proportions. "
   ]
  },
  {
   "cell_type": "code",
   "execution_count": 3,
   "metadata": {},
   "outputs": [
    {
     "data": {
      "text/plain": [
       "array([[ 0.,  0.,  5., ...,  0.,  0.,  0.],\n",
       "       [ 0.,  0.,  0., ..., 10.,  0.,  0.],\n",
       "       [ 0.,  0.,  0., ..., 16.,  9.,  0.],\n",
       "       ...,\n",
       "       [ 0.,  0.,  1., ...,  6.,  0.,  0.],\n",
       "       [ 0.,  0.,  2., ..., 12.,  0.,  0.],\n",
       "       [ 0.,  0., 10., ..., 12.,  1.,  0.]])"
      ]
     },
     "execution_count": 3,
     "metadata": {},
     "output_type": "execute_result"
    }
   ],
   "source": [
    "## Code for data preprocessing \n",
    "\n",
    "# Include your code to load, clean and split data in this cell. You must complete this step in the project.\n",
    "\n",
    "from sklearn.datasets import load_digits\n",
    "digits = load_digits()\n",
    "x = digits.data\n",
    "y = digits.target\n",
    "\n",
    "\n",
    "\n",
    "from sklearn.model_selection import train_test_split\n",
    "x_train, x_test, y_train, y_test = train_test_split(x, y, train_size = 0.7)\n",
    "\n"
   ]
  },
  {
   "cell_type": "markdown",
   "metadata": {},
   "source": [
    "## Model selection and tuning\n",
    "\n",
    "_Using this cell, please write a short, clear paragraph explaining how you selected and tuned your model for the project. You must answer the following two questions in this cell (1) Why is your model an appropriate choice for your data? (2) What hyperparameters does your model have and how did you select them? (3) What features did you choose and why? You must engineer at least 1 feature_ \n",
    "\n",
    "I will use a SVM implementation for this project because SMVs are good for classification problems by transforming the feature vectors and establishing a decision boundary based on the support vectors. The main hyperparameters of the SVM model are C which impacts the regularization penalty and kernel which determines the kernel type that transforms the data. I chose to tune both of these hyperparameters because the features of my data are in a relatively high dimension and I would like to see how various C and kernel values effect the accuracy of the model.  "
   ]
  },
  {
   "cell_type": "code",
   "execution_count": 100,
   "metadata": {},
   "outputs": [
    {
     "name": "stdout",
     "output_type": "stream",
     "text": [
      "poly :  1.0\n",
      "linear :  1.0\n",
      "rbf :  0.9960222752585521\n",
      "\n",
      "\n",
      "0.01 :  0.21161495624502785\n",
      "0.1 :  0.958631662688942\n",
      "1 :  0.9960222752585521\n",
      "10 :  1.0\n",
      "100 :  1.0\n"
     ]
    }
   ],
   "source": [
    "## Code for model selection and tuning + feature engineering\n",
    "\n",
    "# Include any code to select and tune your model in this cell. You must complete this step in the project.\n",
    "from sklearn.svm import SVC\n",
    "from sklearn.decomposition import PCA\n",
    "from sklearn.metrics import accuracy_score\n",
    "\n",
    "c = [0.01, 0.1, 1, 10, 100]\n",
    "ker = [\"poly\", \"linear\", \"rbf\"]\n",
    "\n",
    "ker_acc = []\n",
    "c_acc = []\n",
    "\n",
    "best = [0, \"\"]\n",
    "for k in ker:\n",
    "    svm = SVC(kernel = k)\n",
    "    svm.fit(x_train, y_train)\n",
    "    y_svm = svm.predict(x_train)\n",
    "    acc = accuracy_score(y_train, y_svm)\n",
    "    ker_acc.append(acc)\n",
    "    print(k, \": \", acc)\n",
    "    \n",
    "print(\"\\n\")\n",
    "for i in c:\n",
    "    svm = SVC(C = i)\n",
    "    svm.fit(x_train, y_train)\n",
    "    y_svm = svm.predict(x_train)\n",
    "    acc = accuracy_score(y_train, y_svm)\n",
    "    c_acc.append(acc)\n",
    "    print(i, \": \", acc)\n"
   ]
  },
  {
   "cell_type": "code",
   "execution_count": 94,
   "metadata": {},
   "outputs": [
    {
     "data": {
      "text/plain": [
       "Text(0.5, 0, 'kernel type')"
      ]
     },
     "execution_count": 94,
     "metadata": {},
     "output_type": "execute_result"
    },
    {
     "data": {
      "image/png": "[encoded data removed]",
      "text/plain": [
       "<Figure size 432x288 with 1 Axes>"
      ]
     },
     "metadata": {
      "needs_background": "light"
     },
     "output_type": "display_data"
    }
   ],
   "source": [
    "## Plot or table \n",
    "# Include a plot or table explaining how you selected and tuned your model. You must complete this step in the project.\n",
    "import matplotlib.pyplot as plt\n",
    "import numpy as np\n",
    "\n",
    "plt.scatter(ker, ker_acc)\n",
    "plt.plot(ker, ker_acc)\n",
    "plt.title(\"Performance of SVM based on kernel type\")\n",
    "plt.ylabel(\"accuracy\")\n",
    "plt.xlabel(\"kernel type\")"
   ]
  },
  {
   "cell_type": "code",
   "execution_count": 93,
   "metadata": {},
   "outputs": [
    {
     "data": {
      "text/plain": [
       "Text(0.5, 0, 'ln(C)')"
      ]
     },
     "execution_count": 93,
     "metadata": {},
     "output_type": "execute_result"
    },
    {
     "data": {
      "image/png": "[encoded data removed]",
      "text/plain": [
       "<Figure size 432x288 with 1 Axes>"
      ]
     },
     "metadata": {
      "needs_background": "light"
     },
     "output_type": "display_data"
    }
   ],
   "source": [
    "plt.scatter(np.log(c), c_acc)\n",
    "plt.plot(np.log(c), c_acc)\n",
    "plt.title(\"Performance of SVM based on C value\")\n",
    "plt.ylabel(\"accuracy\")\n",
    "plt.xlabel(\"ln(C)\")"
   ]
  },
  {
   "cell_type": "markdown",
   "metadata": {},
   "source": [
    "## Results\n",
    "\n",
    "_Using this cell, please write a short, clear paragraph explaining your results. In this class, we have mostly focused on accuracy. It is OK to measure your results in another quantitative way (e.g. precision or likelihood). Whatever you pick, make sure you are clear on what you are doing, and make sure you explain why your measurement of success makes sense._\n",
    "\n",
    "Here I used two metrics to determine the performance of my SVM model, accuracy and cross validation score. Both metrics returned very high scores. The acuracy was nearly 99% while the leave one out cross validation was over 97%. This greatly exceeded my expectations. I had anticipated that the accuracy would be in the mid-80s, not nearly perfect. The SVM model performs very well with the handwritten dataset."
   ]
  },
  {
   "cell_type": "code",
   "execution_count": 92,
   "metadata": {},
   "outputs": [],
   "source": [
    "## Code \n",
    "\n",
    "# Include code showing how you arrived at your results. You must complete this step in the project.\n",
    "\n",
    "from sklearn.model_selection import cross_val_score\n",
    "from sklearn.model_selection import LeaveOneOut\n",
    "\n",
    "svm = SVC(C = 10, kernel = \"poly\")\n",
    "\n",
    "svm.fit(x_train, y_train)\n",
    "y_predict = svm.predict(x_test)\n",
    "scores = cross_val_score(svm, x_test, y_test, cv=LeaveOneOut())"
   ]
  },
  {
   "cell_type": "code",
   "execution_count": 91,
   "metadata": {},
   "outputs": [
    {
     "name": "stdout",
     "output_type": "stream",
     "text": [
      "                Model Performance                \n",
      "--------------------------------------------------\n",
      "Accuracy: 0.987037037037037\n",
      "Leave one out cross validation: 0.9740740740740741\n"
     ]
    }
   ],
   "source": [
    "## Plot or table \n",
    "\n",
    "# Include a plot or table explaining your results. You must complete this step in the project.\n",
    "print(\"                Model Performance                \")\n",
    "print(\"--------------------------------------------------\")\n",
    "print(\"Accuracy:\", accuracy_score(y_predict, y_test))\n",
    "print(\"Leave one out cross validation:\", scores.mean())"
   ]
  },
  {
   "cell_type": "markdown",
   "metadata": {},
   "source": [
    "## Error analysis\n",
    "\n",
    "_Using this cell, please write a short, clear paragraph explaining what errors your model seems to be making, and offer a brief explanation based on your code below._\n",
    "\n",
    "The following confusion matrix shows that SMV is a very accurate classifier for handwritten numbers. The most any numbers were misclassified was once. Only a single '1', '3', '5', '6', and '8' were misclassified. I suspect if the data were in higher dimensions, such as 64x64 images, the model would perform even better than it did here."
   ]
  },
  {
   "cell_type": "code",
   "execution_count": 80,
   "metadata": {},
   "outputs": [
    {
     "data": {
      "text/plain": [
       "Text(0.5, 15.0, 'predicted value')"
      ]
     },
     "execution_count": 80,
     "metadata": {},
     "output_type": "execute_result"
    },
    {
     "data": {
      "image/png": "[encoded data removed]",
      "text/plain": [
       "<Figure size 432x288 with 1 Axes>"
      ]
     },
     "metadata": {
      "needs_background": "light"
     },
     "output_type": "display_data"
    }
   ],
   "source": [
    "## Error analysis\n",
    "\n",
    "# Include code for error analysis here, to justify your conclusions. \n",
    "# You might make a confusion matrix, sample misclassifier data, analyze learned weights, or use any other method \n",
    "# discussed in class, or which makes sense for your model\n",
    "\n",
    "from sklearn.metrics import confusion_matrix\n",
    "import seaborn as sns\n",
    "\n",
    "mat = confusion_matrix(y_test, y_predict)\n",
    "\n",
    "sns.heatmap(mat, annot = True, cbar = False)\n",
    "plt.ylabel(\"true value\")\n",
    "plt.xlabel(\"predicted value\")"
   ]
  },
  {
   "cell_type": "markdown",
   "metadata": {},
   "source": [
    "## Discussion\n",
    "\n",
    "_Using this cell, please write a short, clear paragraph describing how your results answer or do not answer your question. What new questions arise from your work?_\n",
    "\n",
    "I found that SVMs are highly accurate when predicting handwritten numbers. This shows that machine learning can be efficient in handwritting analysis. While I used SVM, another questions that arises from this project is how other machine learning models perform with this dataset. Are SVMs the best classifier for handwritten digits, or does another model perform even better?"
   ]
  },
  {
   "cell_type": "code",
   "execution_count": null,
   "metadata": {},
   "outputs": [],
   "source": []
  }
 ],
 "metadata": {
  "kernelspec": {
   "display_name": "Python 3",
   "language": "python",
   "name": "python3"
  },
  "language_info": {
   "codemirror_mode": {
    "name": "ipython",
    "version": 3
   },
   "file_extension": ".py",
   "mimetype": "text/x-python",
   "name": "python",
   "nbconvert_exporter": "python",
   "pygments_lexer": "ipython3",
   "version": "3.8.3"
  }
 },
 "nbformat": 4,
 "nbformat_minor": 4
}
