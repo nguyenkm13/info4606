{
 "cells": [
  {
   "cell_type": "markdown",
   "metadata": {},
   "source": [
    "### The softmax function\n",
    "\n",
    "$p(y_i = k | x_i) = \\frac{\\text{exp}(\\text{score}_{i, j})}{\\sum_{j=0}^K \\text{exp}(\\text{score}_{i,j})} $\n"
   ]
  },
  {
   "cell_type": "code",
   "execution_count": 9,
   "metadata": {},
   "outputs": [],
   "source": [
    "def softmax(scores):\n",
    "    '''\n",
    "    return a sum of K probabilities that sum to 1 where K = number of classes\n",
    "    '''\n",
    "    return np.exp(scores) / sum(np.exp(scores))\n",
    "    pass"
   ]
  },
  {
   "cell_type": "code",
   "execution_count": 20,
   "metadata": {},
   "outputs": [],
   "source": [
    "import numpy as np\n",
    "np.exp(-100)\n",
    "\n",
    "scores = np.array([-6, 5, 3])\n",
    "\n",
    "softmax(scores)\n",
    "\n",
    "sum_of_exps = np.exp(scores[0]) + np.exp(scores[1]) + np.exp(scores[2])\n",
    "sum_of_exps\n"
   ]
  },
  {
   "cell_type": "markdown",
   "metadata": {},
   "source": [
    "#### Softmax questions\n",
    "\n",
    "1. What happens when the scores are the same?\n",
    " - Each feature has the same probability\n",
    "2. What happens when one score is way bigger than the others\n",
    " - The probability of the large score is practically 1\n",
    "3. Why do you think this function might be called a \"soft\" max?\n",
    "4. Where do the scores come from (check slides)?"
   ]
  },
  {
   "cell_type": "code",
   "execution_count": null,
   "metadata": {},
   "outputs": [],
   "source": []
  }
 ],
 "metadata": {
  "kernelspec": {
   "display_name": "Python 3",
   "language": "python",
   "name": "python3"
  },
  "language_info": {
   "codemirror_mode": {
    "name": "ipython",
    "version": 3
   },
   "file_extension": ".py",
   "mimetype": "text/x-python",
   "name": "python",
   "nbconvert_exporter": "python",
   "pygments_lexer": "ipython3",
   "version": "3.8.3"
  }
 },
 "nbformat": 4,
 "nbformat_minor": 4
}
